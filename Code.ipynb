{
 "cells": [
  {
   "cell_type": "markdown",
   "metadata": {
    "id": "PWTf7H60Z0i_"
   },
   "source": [
    "# Rétropropagation de l'erreur dans les réseaux de neurones à décharges\n",
    "### GEI723, Automne 2024\n",
    "Ce notebook présente comment l'algorithme de la descente du gradient peut être adapté pour la rétropropagation de l'erreur dans les réseaux de neurones à décharges avec des fonctions d'activation non dérivables.\n",
    "\n",
    "Ce notebook est utilisé dans le cadre du cours GEI723 (Neuro-Computationnel).\n",
    "\n",
    "- **Encodage de l'entrée** : Les entrées sont encodées sous forme de trains de spikes.\n",
    "- **Structure du réseau** : Réseau de neurones à décharges avec plusieurs couches, utilisant différentes fonctions d'activation\n",
    "- **Études menées** : \n",
    "  - Impact des fonctions d'activation et des dérivées sur la performance.\n",
    "  - Analyse des méta-paramètres (nombre de couches, taux d'apprentissage, taille des lots).\n",
    "  - Comparaison entre réseaux avec et sans apprentissage sur certaines couches.\n",
    "- **Objectif du code** : Optimisation et analyse de la rétropropagation de l'erreur des réseaux de neurones à décharges.\n",
    "\n",
    "**Auteurs :**\n",
    "Clémence Lamballe\n",
    "Behrouz Niknejad\n",
    "Jean-Sébastien Giroux\n"
   ]
  },
  {
   "cell_type": "markdown",
   "metadata": {},
   "source": [
    "### Sources :"
   ]
  },
  {
   "cell_type": "markdown",
   "metadata": {},
   "source": [
    "Ce notebook a été inspiré du notebook créé par Ismaël Balafrej, Ph.D. avec Jean Rouat, Ph.D., ing., professeur et adapté par Ahmad El Ferdaoussi, Ph.D. et Arnaud Yarga, étud. Ph.D, dont le copyright et les auteurs sont:\n",
    "\n",
    "Copyright (c) 2019-2024, Université de Sherbrooke, groupe de recherche NECOTIS. Tous droits réservés.  \n",
    "Auteurs: Ismael Balafrej, Jean Rouat, adapté par Ahmad El Ferdaoussi et Arnaud Yarga\n",
    "\n",
    "\n",
    "Ce travail a lui même été adapté et inspiré des articles suivants:\n",
    "1. Surrogate Gradient Learning in Spiking Neural Networks by Zenke & Ganguli (2018) https://arxiv.org/pdf/1901.09948.pdf\n",
    "2. SLAYER: Spike Layer Error Reassignment in Time (2018) https://arxiv.org/pdf/1810.08646.pdf\n",
    "3. Biologically inspired alternatives to backpropagation through time for learning in recurrent neural nets (2019) https://arxiv.org/pdf/1901.09049.pdf\n",
    "\n",
    "\n",
    "Dans cet exemple de code la gestion du potentiel et de l'intensité du neurone est placé dans la gestion des couches.\n",
    "Vous pouvez décider de le faire autrement, par exemple dans la phase de propagation avant."
   ]
  },
  {
   "cell_type": "markdown",
   "metadata": {
    "id": "qpKksf2Ik4ga"
   },
   "source": [
    "# Packages et imports"
   ]
  },
  {
   "cell_type": "code",
   "execution_count": 2,
   "metadata": {
    "id": "IJGOX5B8F7ic"
   },
   "outputs": [],
   "source": [
    "import enum\n",
    "import numpy as np\n",
    "import matplotlib.pyplot as plt\n",
    "import quantities as units\n",
    "import torch\n",
    "from torch.autograd import Function\n",
    "from sklearn import datasets, model_selection, utils\n",
    "from sparse import COO\n",
    "from SpikeFunctions import *\n"
   ]
  },
  {
   "cell_type": "markdown",
   "metadata": {},
   "source": [
    "# 1) Préparation de la configuration pour le réseau de neurones"
   ]
  },
  {
   "cell_type": "markdown",
   "metadata": {
    "id": "BspwdQSOk8U-"
   },
   "source": [
    "### Configuration"
   ]
  },
  {
   "cell_type": "code",
   "execution_count": 3,
   "metadata": {
    "id": "ngz0VkgVmJB6"
   },
   "outputs": [],
   "source": [
    "# Reproducibility\n",
    "torch.manual_seed(0)\n",
    "np.random.seed(0)\n",
    "\n",
    "# Use the GPU unless there is none available.\n",
    "# If you don't have a CUDA enabled GPU, I recommned using Google Colab,\n",
    "# available at https://colab.research.google.com. Create a new notebook\n",
    "# and then go to Runtime -> Change runtime type -> Hardware accelerator -> GPU\n",
    "# Colab gives you access to up to 12 free continuous hours of a fairly recent GPU.\n",
    "device = torch.device(\"cuda\") if torch.cuda.is_available() else torch.device(\"cpu\")\n"
   ]
  },
  {
   "cell_type": "markdown",
   "metadata": {
    "id": "frOGRjz0mL_5"
   },
   "source": [
    "### Préparation des données"
   ]
  },
  {
   "cell_type": "code",
   "execution_count": 5,
   "metadata": {
    "id": "hp-KevLKmLLP"
   },
   "outputs": [],
   "source": [
    "# Let's download the MNIST dataset, available at https://www.openml.org/d/554\n",
    "# You can edit the argument data_home to the directory of your choice.\n",
    "# The dataset will be downloaded there; the default directory is ~/scikit_learn_data/\n",
    "X, y = datasets.fetch_openml('mnist_784', version=1, return_X_y=True, data_home=None, as_frame=False)\n",
    "nb_of_samples, nb_of_features = X.shape\n",
    "# X = 70k samples, 28*28 features; y = 70k samples, 1 label (string)\n",
    "\n",
    "# Shuffle the dataset\n",
    "X, y = utils.shuffle(X, y)\n",
    "\n",
    "\n",
    "# Convert the labels (string) to integers for convenience\n",
    "y = np.array(y, dtype=int)\n",
    "nb_of_ouputs = np.max(y) + 1\n",
    "\n",
    "# We'll normalize our input data in the range [0, 1[.\n",
    "X = X / pow(2, 8)"
   ]
  },
  {
   "cell_type": "markdown",
   "metadata": {
    "id": "dgamMat1mXvu"
   },
   "source": [
    "### Conversion en décharges"
   ]
  },
  {
   "cell_type": "code",
   "execution_count": 8,
   "metadata": {
    "id": "moU3ZUh8mSFG",
    "scrolled": true
   },
   "outputs": [],
   "source": [
    "# And convert the data to a spike train using TTFS encoding\n",
    "# Choix utilisateur : dt\n",
    "dt = 1*units.ms\n",
    "duration_per_image = 100*units.ms\n",
    "absolute_duration = int(duration_per_image / dt)\n",
    "\n",
    "time_of_spike = (1 - X) * absolute_duration  # The brighter the pixel, the earlier the spike\n",
    "time_of_spike[X < .25] = 0  # \"Remove\" the spikes associated with darker pixels, which presumably carry less information\n",
    "\n",
    "sample_id, neuron_idx = np.nonzero(time_of_spike)\n",
    "\n",
    "# We use a sparse COO array to store the spikes for memory requirements\n",
    "# You can use the spike_train variable as if it were a tensor of shape (nb_of_samples, nb_of_features, absolute_duration)\n",
    "spike_train = COO((sample_id, neuron_idx, time_of_spike[sample_id, neuron_idx].astype(int)),\n",
    "                  np.ones_like(sample_id), shape=(nb_of_samples, nb_of_features, absolute_duration))\n",
    "\n"
   ]
  },
  {
   "cell_type": "markdown",
   "metadata": {
    "id": "IAxIwqtumyda"
   },
   "source": [
    "### Split entrainement/test/Validation"
   ]
  },
  {
   "cell_type": "code",
   "execution_count": 8,
   "metadata": {},
   "outputs": [
    {
     "name": "stdout",
     "output_type": "stream",
     "text": [
      "nb_of_samples = 70000\n",
      "train_indices.shape = (56000,)\n",
      "validation_indices.shape = (7000,)\n",
      "test_indices.shape = (7000,)\n",
      "\n",
      "verification divisions bien faits: True\n"
     ]
    }
   ],
   "source": [
    "# Nombre total d'échantillons\n",
    "print(\"nb_of_samples =\", nb_of_samples)\n",
    "\n",
    "# 80% pour l'entraînement\n",
    "nb_of_train_samples = int(nb_of_samples * 0.80)\n",
    "\n",
    "# 10% pour test\n",
    "nb_of_test_samples = int(nb_of_samples * 0.10)\n",
    "\n",
    "# 10% pour validation\n",
    "nb_of_validation_samples = nb_of_samples - nb_of_train_samples - nb_of_test_samples\n",
    "\n",
    "# Création des indices\n",
    "train_indices = np.arange(nb_of_train_samples)\n",
    "validation_indices = np.arange(nb_of_train_samples, nb_of_train_samples + nb_of_validation_samples)\n",
    "test_indices = np.arange(nb_of_train_samples + nb_of_validation_samples, nb_of_samples)\n",
    "\n",
    "print(\"train_indices.shape =\", train_indices.shape)\n",
    "print(\"validation_indices.shape =\", validation_indices.shape)\n",
    "print(\"test_indices.shape =\", test_indices.shape)\n",
    "\n",
    "\n",
    "total_samples = train_indices.shape[0] + test_indices.shape[0] + validation_indices.shape[0]\n",
    "print(f\"\\nverification divisions bien faits: {total_samples==nb_of_samples}\")\n"
   ]
  },
  {
   "cell_type": "markdown",
   "metadata": {
    "id": "ZWlfjmhjmdPz"
   },
   "source": [
    "### Création du réseau"
   ]
  },
  {
   "cell_type": "code",
   "execution_count": null,
   "metadata": {
    "id": "wqeJ9wNBm_84"
   },
   "outputs": [
    {
     "data": {
      "text/plain": [
       "tensor([[-2.4326e-02, -9.3611e-02, -1.4246e-01,  ...,  8.3159e-02,\n",
       "         -7.8966e-02,  1.7094e-02],\n",
       "        [-7.5318e-02, -2.9158e-02, -2.8137e-01,  ...,  8.0170e-02,\n",
       "          9.1994e-05,  7.9198e-02],\n",
       "        [-1.2071e-01, -5.1669e-02, -1.4843e-01,  ...,  1.2034e-01,\n",
       "         -3.2503e-02, -6.6948e-02],\n",
       "        ...,\n",
       "        [-8.0634e-02,  1.4487e-01,  1.0769e-01,  ..., -1.4347e-01,\n",
       "         -7.0423e-02, -3.8071e-02],\n",
       "        [ 1.0228e-01,  8.0778e-02, -9.4524e-03,  ..., -1.2812e-02,\n",
       "          5.5819e-02, -1.2200e-01],\n",
       "        [ 1.3459e-01,  8.6777e-02, -1.0030e-01,  ...,  7.1452e-03,\n",
       "         -5.2386e-02, -1.8795e-01]], requires_grad=True)"
      ]
     },
     "execution_count": 9,
     "metadata": {},
     "output_type": "execute_result"
    }
   ],
   "source": [
    "# We create a 2 layer network (1 hidden, 1 output)\n",
    "# choix utilisateur : nombre de neurones par couche\n",
    "\n",
    "nb_hidden = 128  # Number of hidden neurons\n",
    "\n",
    "# choix utilisateur : nombre de couches\n",
    "\n",
    "w1 = torch.empty((nb_of_features, nb_hidden), device=device, dtype=torch.float, requires_grad=True)\n",
    "torch.nn.init.normal_(w1, mean=0., std=.1)\n",
    "\n",
    "w2 = torch.empty((nb_hidden, nb_of_ouputs), device=device, dtype=torch.float, requires_grad=True)\n",
    "torch.nn.init.normal_(w2, mean=0., std=.1)\n"
   ]
  },
  {
   "cell_type": "code",
   "execution_count": null,
   "metadata": {},
   "outputs": [],
   "source": [
    "\n",
    "\"\"\"\n",
    "Cette class permet de calculer la sortie d'une fonction lors de la propagation avant et de personaliser la derivée lors de la retropropagation de l'erreur.\n",
    "Voir cet exemple pour plus de détails : https://pytorch.org/tutorials/beginner/examples_autograd/two_layer_net_custom_function.html\n",
    "\"\"\"\n",
    "class SpikeFunction_Default(torch.autograd.Function):\n",
    "    \"\"\"\n",
    "    Dans la passe avant, nous recevons un tenseur contenant l'entrée (potential-threshold).\n",
    "    Nous appliquons la fonction Heaviside et renvoyons un tenseur contenant la sortie.\n",
    "    \"\"\"\n",
    "    @staticmethod\n",
    "    def forward(ctx, input):\n",
    "        ctx.save_for_backward(input)\n",
    "        out = torch.zeros_like(input)\n",
    "        out[input > 0] = 1.0 # On génère une décharge quand (potential-threshold) > 0\n",
    "        return out\n",
    "\n",
    "    \"\"\"\n",
    "    Dans la passe arrière, nous recevons un tenseur contenant le gradient de l'erreur par rapport à la sortie.\n",
    "    Nous calculons le gradient de l'erreur par rapport à l'entrée en utilisant la dérivée de la fonction ReLu.\n",
    "    \"\"\"\n",
    "    @staticmethod\n",
    "    def backward(ctx, grad_output):\n",
    "        input, = ctx.saved_tensors\n",
    "        grad_relu = torch.ones_like(input) # La dérivée de la fonction ReLU\n",
    "        grad_relu[input < 0] = 0          # La dérivée de la fonction ReLU\n",
    "        return grad_output.clone()*grad_relu\n",
    "    \n",
    "\n",
    "# Énumération pour les fonctions d'activation\n",
    "class Fonctions_Activation(enum.Enum):\n",
    "    SpikeFunction_Classical_RELU = 1  # ReLU classique\n",
    "    SpikeFunction_Leaky_RELU = 2  # ReLU avec fuite\n",
    "    SpikeFunction_Abs_RELU = 3  # ReLU basé sur une fonction absolue\n",
    "    SpikeFunction_Default = 4  # Fonction par défaut (Heaviside)\n",
    "    SpikeFunction_Sigmoid = 5  # Fonction sigmoïde\n",
    "    SpikeFunction_Triangular = 6  # Fonction triangulaire\n",
    "    SpikeFunction_Gaussian = 7  # Fonction gaussienne\n",
    "fonc_act = {}\n",
    "class CustomActivation(torch.nn.Module):\n",
    "    def __init__(self, activation_type, params=None):\n",
    "        \"\"\"\n",
    "        activation_type : Fonctions_Activation\n",
    "            Enumération représentant le type de fonction d'activation à utiliser.\n",
    "        \"\"\"\n",
    "        super(CustomActivation, self).__init__()\n",
    "        self.activation_type = activation_type\n",
    "        self.params = params or {}\n",
    "\n",
    "    def forward(self, x):\n",
    "        if self.activation_type == Fonctions_Activation.SpikeFunction_Classical_RELU:\n",
    "            return SpikeFunction_Classical_RELU.apply(x)\n",
    "        elif self.activation_type == Fonctions_Activation.SpikeFunction_Leaky_RELU:\n",
    "            return SpikeFunction_Leaky_RELU.apply(x)\n",
    "        elif self.activation_type == Fonctions_Activation.SpikeFunction_Abs_RELU:\n",
    "            return SpikeFunction_Abs_RELU.apply(x)\n",
    "        elif self.activation_type == Fonctions_Activation.SpikeFunction_Default:\n",
    "            return SpikeFunction_Default.apply(x)\n",
    "        elif self.activation_type == Fonctions_Activation.SpikeFunction_Sigmoid:\n",
    "            alpha = self.params.get(\"alpha\", 1.0)  # Valeur par défaut de alpha\n",
    "            return SpikeFunction_Sigmoid.apply(x, alpha)\n",
    "        elif self.activation_type == Fonctions_Activation.SpikeFunction_Triangular:\n",
    "            theta = self.params.get(\"theta\", 0) \n",
    "            delta = self.params.get(\"delta\", 1) \n",
    "            return SpikeFunction_Triangular.apply(x, theta, delta)\n",
    "        elif self.activation_type == Fonctions_Activation.SpikeFunction_Gaussian:\n",
    "            alpha = self.params.get(\"alpha\", 1.0)  # Valeur par défaut de alpha\n",
    "            theta = self.params.get(\"theta\", 0.0)  # Valeur par défaut de theta\n",
    "            return SpikeFunction_Gaussian.apply(x,alpha,theta)\n",
    "        else:\n",
    "            raise ValueError(\"Unsupported activation type.\")\n",
    "    "
   ]
  },
  {
   "cell_type": "markdown",
   "metadata": {},
   "source": [
    "<h3 style=\"background-color: yellow; color: darkblue; display: inline-block; padding: 0.3em;\">Choix Utilisateur</h3>\n"
   ]
  },
  {
   "cell_type": "code",
   "execution_count": null,
   "metadata": {},
   "outputs": [],
   "source": [
    "# Valeurs à modifier par l'utilisateur\n",
    "selected_function = 5  # Choix de la fonction d'activation \n",
    "#1 = ReLU classique, 2 = Leaky ReLU, 3 = Abs ReLU, 4 = Heaviside et dérivée ReLU classique, 5 = Sigmoïde, 6 = Triangulaire, 7 = Gaussienne\n",
    "params_sigmoid = {\"alpha\": 2.0} #Valeurs testées :  0.5, 1.0, 2\n",
    "params_triangular = {\"theta\": 0, \"delta\": 1}# Valeurs testées :(0, 1), (0, 2), (1, 1), (-1, 1)\n",
    "params_gaussian = {\"alpha\": 1.0, \"theta\": 0.0}# Valeurs testées :(1.0, 0.0), (3, 0.0), (1.0, 1.0), (1.0, -1.0)\n",
    "#\n",
    "\n",
    "\n",
    "# Conversion des choix en énumérations\n",
    "#selected_method_enum = Methodes_Apprentissage(selected_method)\n",
    "selected_function_enum = Fonctions_Activation(selected_function)\n",
    "\n",
    "Functions_parameters = None\n",
    "\n",
    "if selected_function_enum == Fonctions_Activation.SpikeFunction_Sigmoid:\n",
    "    Functions_parameters = params_sigmoid\n",
    "elif selected_function_enum == Fonctions_Activation.SpikeFunction_Triangular:\n",
    "    Functions_parameters = params_triangular\n",
    "elif selected_function_enum == Fonctions_Activation.SpikeFunction_Gaussian:\n",
    "    Functions_parameters = params_gaussian\n",
    "else:\n",
    "    Functions_parameters = {}  # Pas de paramètres spécifiques pour les autres fonctions\n",
    "\n",
    "\n",
    "# Création de la couche avec les paramètres spécifiques (si nécessaires)\n",
    "Layer = CustomActivation(activation_type=selected_function_enum, params=Functions_parameters)\n",
    "\n",
    "\n",
    "\n",
    "Function_name = selected_function_enum.name  # Utilisation de l'énumération\n",
    "# Affichage de la fonction et des paramètres sélectionnés\n",
    "print(f\"Nom de la fonction d'activation : {Function_name}\")\n",
    "print(f\"Paramètres associés : {Functions_parameters}\")\n",
    "\n",
    "if Function_name == 'SpikeFunction_Default':\n",
    "    print(\"LANCEMENT PAR DEFAUT\")\n",
    "\n",
    "\n",
    "# Exemple d'utilisation avec torch.Tensor\n",
    "#x = torch.randn(10)  # Exemple de tenseur d'entrée\n",
    "#custom_layer = CustomLayer(selected_method_enum, selected_function_enum)\n",
    "#output = custom_layer(x)\n",
    "#print(\"Sortie de la couche personnalisée : \", output)\n"
   ]
  },
  {
   "cell_type": "markdown",
   "metadata": {},
   "source": [
    "### Implémentation dynamique LIF \n"
   ]
  },
  {
   "cell_type": "code",
   "execution_count": null,
   "metadata": {
    "id": "xAXZCMNsnIri"
   },
   "outputs": [],
   "source": [
    "def run_spiking_layer(input_spike_train, layer_weights, tau_v=20*units.ms, tau_i=5*units.ms, v_threshold=1.0):\n",
    "    \"\"\"Here we implement a current-LIF dynamic in PyTorch\"\"\"\n",
    "\n",
    "    # First, we multiply the input spike train by the weights of the current layer to get the current that will be added\n",
    "    # We can calculate this beforehand because the weights are constant in the forward pass (no plasticity)\n",
    "    input_current = torch.einsum(\"abc,bd->adc\", (input_spike_train, layer_weights))  # Equivalent to a matrix multiplication for tensors of dim > 2 using Einstein's Notation\n",
    "\n",
    "    recorded_spikes = []  # Array of the output spikes at each time t\n",
    "    membrane_potential_at_t = torch.zeros((input_spike_train.shape[0], layer_weights.shape[-1]), device=device, dtype=torch.float)\n",
    "    membrane_current_at_t = torch.zeros((input_spike_train.shape[0], layer_weights.shape[-1]), device=device, dtype=torch.float)\n",
    "\n",
    "    for t in range(absolute_duration):  # For every timestep\n",
    "        # Apply the leak\n",
    "        membrane_potential_at_t = float(np.exp(-dt/tau_v))*membrane_potential_at_t # Using tau_v with euler or exact method\n",
    "        membrane_current_at_t = float(np.exp(-dt/tau_i))*membrane_current_at_t # Using tau_i with euler or exact method\n",
    "\n",
    "        # Select the input current at time t\n",
    "        input_at_t = input_current[:, :, t]\n",
    "\n",
    "        # Integrate the input current\n",
    "        membrane_current_at_t += input_at_t\n",
    "\n",
    "        # Integrate the input to the membrane potential\n",
    "\n",
    "        membrane_potential_at_t += membrane_current_at_t *float(dt/tau_v) #! *float(dt/tau_v)??\n",
    "        #! si on rajoute le *, avec SpikeFunction_Default, on arrive pas a descendre le loss alors que sans oui\n",
    "\n",
    "        # Apply the non-differentiable function\n",
    "        if Function_name != 'SpikeFunction_Default':\n",
    "            recorded_spikes_at_t = Layer(membrane_potential_at_t - v_threshold)\n",
    "        else:\n",
    "            recorded_spikes_at_t = SpikeFunction_Default.apply(membrane_potential_at_t - v_threshold)\n",
    "     \n",
    "\n",
    "        \n",
    "        recorded_spikes.append(recorded_spikes_at_t)\n",
    "\n",
    "        # Reset the spiked neurons\n",
    "        membrane_potential_at_t[membrane_potential_at_t > v_threshold] = 0\n",
    "\n",
    "    recorded_spikes = torch.stack(recorded_spikes, dim=2) # Stack over time axis (Array -> Tensor)\n",
    "    return recorded_spikes\n"
   ]
  },
  {
   "cell_type": "markdown",
   "metadata": {
    "id": "xNEAhvjlnVqF"
   },
   "source": [
    "# 2) Entrainement et Validation"
   ]
  },
  {
   "cell_type": "code",
   "execution_count": null,
   "metadata": {
    "id": "dPyehEEZzc4x"
   },
   "outputs": [],
   "source": [
    "print(f\"Fonction sélectionnée : {Function_name}\")\n",
    "if Functions_parameters is None:\n",
    "    print(\"Paramètres associés : Paramètres initiaux\")\n",
    "else:\n",
    "    print(\"Paramètres associés :\", \", \".join(f\"{key}: {value}\" for key, value in Functions_parameters.items()))\n",
    "# Set-up training\n",
    "correct_label_count = 0\n",
    "\n",
    "# Choix utilisateur : nombre d'époques et la taille des lots\n",
    "nb_of_epochs = 20\n",
    "batch_size = 256  # The backpropagation is done after every batch, but a batch here is also used for memory requirements\n",
    "number_of_batches = len(train_indices) // batch_size\n",
    "\n",
    "params = [w1, w2]  # Trainable parameters\n",
    "\n",
    "# Choix utilisateur : taux d'apprentissage lr\n",
    "optimizer = torch.optim.Adam(params, lr=0.01, amsgrad=True)\n",
    "loss_fn = torch.nn.MSELoss(reduction='mean')\n",
    "\n",
    "# Initialisation des listes pour stocker les poids\n",
    "w1_history = []\n",
    "w2_history = []\n",
    "\n",
    "loss_history = {}\n",
    "loss_history[Function_name] = []\n",
    "\n",
    "\n",
    "for e in range(nb_of_epochs):\n",
    "    epoch_loss = 0\n",
    "    for batch in np.array_split(train_indices, number_of_batches):\n",
    "        # Select batch and convert to tensors\n",
    "        batch_spike_train = torch.FloatTensor(spike_train[batch].todense()).to(device)\n",
    "        batch_labels = torch.LongTensor(y[batch, np.newaxis]).to(device)\n",
    "\n",
    "        # Here we create a target spike count (10 spikes for wrong label, 100 spikes for true label) in a one-hot fashion\n",
    "        # This approach is seen in Shrestha & Orchard (2018) https://arxiv.org/pdf/1810.08646.pdf\n",
    "        # Code available at https://github.com/bamsumit/slayerPytorch\n",
    "        min_spike_count = 10 * torch.ones((batch.shape[0], 10), device=device, dtype=torch.float)\n",
    "        target_output = min_spike_count.scatter_(1, batch_labels, 100.0)\n",
    "\n",
    "        # Forward propagation\n",
    "        layer_1_spikes = run_spiking_layer(batch_spike_train, w1)\n",
    "        layer_2_spikes = run_spiking_layer(layer_1_spikes, w2)\n",
    "        network_output = torch.sum(layer_2_spikes, 2)  # Count the spikes over time axis\n",
    "        loss = loss_fn(network_output, target_output)\n",
    "\n",
    "        # Backward propagation\n",
    "        optimizer.zero_grad()\n",
    "        loss.backward()\n",
    "        \n",
    "\n",
    "        optimizer.step()\n",
    "        epoch_loss += loss.item()\n",
    "\n",
    "    #print(\"\\nW1: \",w1.grad)  # Pour vérifier les gradients de w1\n",
    "    #print(\"W2: \",w2.grad)  # Pour vérifier les gradients de w2   \n",
    "    #VALIDATION\n",
    "    \n",
    "    with torch.no_grad():\n",
    "        for batch in np.array_split(validation_indices,  len(validation_indices) // batch_size):\n",
    "\n",
    "            validation_spike_train = torch.FloatTensor(spike_train[batch].todense()).to(device)\n",
    "\n",
    "            # Same forward propagation as before\n",
    "            layer_1_spikes = run_spiking_layer(validation_spike_train, w1)\n",
    "            layer_2_spikes = run_spiking_layer(layer_1_spikes, w2)\n",
    "            network_output = torch.sum(layer_2_spikes, 2)  # Count the spikes over time axis\n",
    "\n",
    "            #print(\"network_output shape:\", network_output.shape)  # Affiche la forme de la sortie\n",
    "            #print(\"y[batch] shape:\", y[batch].shape)  # Affiche la forme des labels\n",
    "\n",
    "\n",
    "            # Do the prediction by selecting the output neuron with the most number of spikes\n",
    "            _, am = torch.max(network_output, 1)\n",
    "            #print(f\"Prédictions : {am.cpu().numpy()}\")  # Affiche les prédictions #! QUE DES 0!!!!!!!!\n",
    "            #print(f\"Labels réels : {y[batch]}\")  # Affiche les labels réels\n",
    "            correct_label_count += np.sum(am.detach().cpu().numpy() == y[batch])\n",
    "\n",
    "        \n",
    "\n",
    "    print(\"\\nEpoch %i -- loss : %.4f\" %(e+1, epoch_loss / number_of_batches))\n",
    "    avg_epoch_loss = epoch_loss / number_of_batches\n",
    "    loss_history[Function_name].append(avg_epoch_loss)\n",
    "    \n",
    "    # Affichage des 1er, 2e et dernier poids de w1 et w2\n",
    "    print(f\"Weight evolution - w1: First = {w1.detach().cpu().numpy()[0][0]}, \"\n",
    "      f\"Second = {w1.detach().cpu().numpy()[1][0]}, \"\n",
    "      f\"Last = {w1.detach().cpu().numpy()[-1][0]}, \"\n",
    "      f\"Weight at (12, 25) = {w1.detach().cpu().numpy()[12][25]}\")\n",
    "\n",
    "    #print(f\"Weight evolution - w1: First = {w1.detach().cpu().numpy()[0][0]}, Second = {w1.detach().cpu().numpy()[1][0]}, Last = {w1.detach().cpu().numpy()[-1][0]}\")\n",
    "    print(f\"Weight evolution - w2: First = {w2.detach().cpu().numpy()[0][0]}, Second = {w2.detach().cpu().numpy()[1][0]}, Last = {w2.detach().cpu().numpy()[-1][0]}\")\n",
    "    w1_history.append(w1.detach().cpu().numpy().copy())  \n",
    "    w2_history.append(w2.detach().cpu().numpy().copy())\n",
    "\n",
    "print(\"VALIDATION : Model accuracy on test set: %.3f\" % (correct_label_count / len(validation_indices)))\n",
    "\n"
   ]
  },
  {
   "cell_type": "markdown",
   "metadata": {
    "id": "0j4qQrgVnihY"
   },
   "source": [
    "# 3) Test"
   ]
  },
  {
   "cell_type": "code",
   "execution_count": null,
   "metadata": {
    "id": "NgQyFnPetmxQ"
   },
   "outputs": [],
   "source": [
    "# Test the accuracy of the model\n",
    "correct_label_count = 0\n",
    "\n",
    "# We only need to batchify the test set for memory requirements\n",
    "for batch in np.array_split(test_indices,  len(test_indices) // batch_size):\n",
    "    test_spike_train = torch.FloatTensor(spike_train[batch].todense()).to(device)\n",
    "\n",
    "    # Same forward propagation as before\n",
    "    layer_1_spikes = run_spiking_layer(test_spike_train, w1)\n",
    "    layer_2_spikes = run_spiking_layer(layer_1_spikes, w2)\n",
    "    network_output = torch.sum(layer_2_spikes, 2)  # Count the spikes over time axis\n",
    "\n",
    "    # Do the prediction by selecting the output neuron with the most number of spikes\n",
    "    _, am = torch.max(network_output, 1)\n",
    "    correct_label_count += np.sum(am.detach().cpu().numpy() == y[batch])\n",
    "\n",
    "print(\"Model accuracy on test set: %.3f\" % (correct_label_count / len(test_indices)))"
   ]
  },
  {
   "cell_type": "markdown",
   "metadata": {},
   "source": [
    "# 4) Graphiques"
   ]
  },
  {
   "cell_type": "markdown",
   "metadata": {},
   "source": [
    "### Évolution des poids"
   ]
  },
  {
   "cell_type": "code",
   "execution_count": null,
   "metadata": {},
   "outputs": [],
   "source": [
    "# Vérification des changements dans w1\n",
    "w1_history = np.array(w1_history)\n",
    "\n",
    "w1_changes = []  # Liste des indices où les poids de w1 changent\n",
    "for i in range(w1_history.shape[1]):  # Parcours des unités de la couche d'entrée\n",
    "    for j in range(w1_history.shape[2]):  # Parcours des unités de la couche cachée\n",
    "        if w1_history[-1, i, j] != w1_history[0, i, j]:  # Comparaison poids initial et final\n",
    "            w1_changes.append((i, j))\n",
    "\n",
    "# Résultat pour w1\n",
    "if w1_changes:\n",
    "    print(f\"Indices des poids de w1 ayant changé : {w1_changes}\")\n",
    "else:\n",
    "    print(\"Les poids de w1 n'ont pas changé.\")\n",
    "\n",
    "additional_indices = []\n",
    "if len(w1_changes) > 0:\n",
    "    additional_indices = w1_changes[:2]\n",
    "\n",
    "changed_weights = len(w1_changes)\n",
    "\n",
    "# Affichage des résultats\n",
    "total_weights = w1_history.shape[1] * w1_history.shape[2]\n",
    "print(f\"Nombre total de poids dans w1 : {total_weights}\")\n",
    "print(f\"Nombre de poids ayant changé dans w1 : {changed_weights}\")\n",
    "percentage_changed = (changed_weights / total_weights) * 100\n",
    "print(f\"\\nPourcentage de poids ayant changé dans w1 : {percentage_changed:.2f}%\")\n",
    "percentage_not_changed_w1 = 100 - percentage_changed\n",
    "print(f\"Pourcentage de poids n'ayant pas changé dans w1 : {percentage_not_changed_w1:.2f}%\")\n",
    "\n",
    "\n"
   ]
  },
  {
   "cell_type": "code",
   "execution_count": null,
   "metadata": {},
   "outputs": [],
   "source": [
    "# Convertir w2_history en tableau numpy pour faciliter les manipulations\n",
    "w2_history = np.array(w2_history)\n",
    "\n",
    "# Vérification des changements dans w2\n",
    "w2_changes = []  # Liste des indices où les poids de w2 changent\n",
    "for i in range(w2_history.shape[1]):  # Parcours des unités de la couche cachée\n",
    "    for j in range(w2_history.shape[2]):  # Parcours des unités de la couche de sortie\n",
    "        if w2_history[-1, i, j] != w2_history[0, i, j]:  # Comparaison poids initial et final\n",
    "            w2_changes.append((i, j))\n",
    "\n",
    "# Affichage des indices des poids de w2 ayant changé\n",
    "if w2_changes:\n",
    "    print(f\"Indices des poids de w2 ayant changé : {w2_changes}\")\n",
    "else:\n",
    "    print(\"Les poids de w2 n'ont pas changé.\")\n",
    "\n",
    "# Nombre total de poids\n",
    "total_weights_w2 = w2_history.shape[1] * w2_history.shape[2]\n",
    "\n",
    "# Nombre de poids ayant changé\n",
    "changed_weights_w2 = len(w2_changes)\n",
    "\n",
    "# Calcul du pourcentage de poids ayant changé\n",
    "percentage_changed_w2 = (changed_weights_w2 / total_weights_w2) * 100\n",
    "percentage_not_changed_w2 = 100 - percentage_changed_w2\n",
    "\n",
    "# Affichage des résultats pour w2\n",
    "print(f\"\\nNombre total de poids dans w2 : {total_weights_w2}\")\n",
    "print(f\"Nombre de poids ayant changé dans w2 : {changed_weights_w2}\")\n",
    "print(f\"\\nPourcentage de poids ayant changé dans w2 : {percentage_changed_w2:.2f}%\")\n",
    "print(f\"Pourcentage de poids n'ayant pas changé dans w2 : {percentage_not_changed_w2:.2f}%\")\n",
    "\n",
    "# Sélection des deux premiers poids qui ont changé\n",
    "additional_indices_w2 = []\n",
    "if changed_weights_w2 > 0:\n",
    "    additional_indices_w2 = w2_changes[:2]  # Prendre les deux premiers indices ayant changé\n"
   ]
  },
  {
   "cell_type": "code",
   "execution_count": null,
   "metadata": {},
   "outputs": [],
   "source": [
    "percentage_changed_tot = ((changed_weights_w2 +changed_weights)/ (total_weights_w2+total_weights)) * 100\n",
    "percentage_not_changed_tot = 100 - percentage_changed_tot\n",
    "print(f\"\\nPourcentage de poids ayant changé au total : {percentage_changed_tot:.2f}%\")\n",
    "print(f\"Pourcentage de poids n'ayant pas changé au total : {percentage_not_changed_tot:.2f}%\")"
   ]
  },
  {
   "cell_type": "code",
   "execution_count": null,
   "metadata": {},
   "outputs": [],
   "source": [
    "print(f\"Fonction sélectionnée : {Function_name}\")\n",
    "\n",
    "if Functions_parameters is None:\n",
    "    params_description= \"avec aramètres initiaux\"\n",
    "else:\n",
    "    params_description = \" , \".join(f\"{key}: {value}\" for key, value in Functions_parameters.items())\n",
    "# Convertir w1_history et w2_history en tableaux numpy pour faciliter les manipulations\n",
    "print(f\"Fonction sélectionnée : {params_description}\")\n",
    "\n",
    "\n",
    "w1_history = np.array(w1_history)\n",
    "w2_history = np.array(w2_history)\n",
    "print(w1_history.shape)#ombre d'époques, nombre d'unités dans la couche d'entrée,nombre d'unités dans la couche cachée\n",
    "print(w2_history.shape)#ombre d'époques, nombre d'unités dans la couche d'entrée,nombre d'unités dans la couche de sortie\n",
    "\n",
    "# Définir le nombre d'époques\n",
    "n_epochs = w1_history.shape[0]\n",
    "\n",
    "# Indices à tracer pour w1 et w2\n",
    "indices_w1 = [0, 1, 111, 222, 333, -1]  # Indices pour w1\n",
    "for idx in additional_indices:\n",
    "    indices_w1.append(idx[0])  # Ajouter les indices des deux premiers poids ayant changé\n",
    "\n",
    "indices_w2 = [0, 1, 50, 60, 110, -1]  # Indices pour w2\n",
    "\n",
    "# Extraire les poids à ces indices pour w1 et w2\n",
    "w1_weights_to_plot = [w1_history[:, i, 0] for i in indices_w1]\n",
    "w2_weights_to_plot = [w2_history[:, i, 0] for i in indices_w2]\n",
    "\n",
    "# Tracer l'évolution des poids de w1 (shape (5, 784, 128))\n",
    "plt.figure(figsize=(10, 3))\n",
    "\n",
    "for i, weight in enumerate(w1_weights_to_plot):\n",
    "    label = f\"Poids w1[{indices_w1[i]},0]\"\n",
    "    plt.plot(weight, label=label)\n",
    "\n",
    "plt.title(f\"{Function_name} {params_description}, Évolution des poids de w1\")\n",
    "plt.xlabel(\"Époque\")\n",
    "plt.ylabel(\"Valeur du poids\")\n",
    "plt.legend(loc='best')\n",
    "plt.grid(True)\n",
    "plt.show()\n",
    "\n",
    "# Tracer l'évolution des poids de w2 (shape (5, 128, 10))\n",
    "plt.figure(figsize=(10, 3))\n",
    "\n",
    "for i, weight in enumerate(w2_weights_to_plot):\n",
    "    label = f\"Poids w2[{indices_w2[i]},0]\"\n",
    "    plt.plot(weight, label=label)\n",
    "\n",
    "plt.title(f\"{Function_name} {params_description}, Évolution des poids de w2\")\n",
    "plt.xlabel(\"Époque\")\n",
    "plt.ylabel(\"Valeur du poids\")\n",
    "plt.legend(loc='best')\n",
    "plt.grid(True)\n",
    "plt.show()"
   ]
  },
  {
   "cell_type": "markdown",
   "metadata": {},
   "source": [
    "### Évolution du loss "
   ]
  },
  {
   "cell_type": "code",
   "execution_count": null,
   "metadata": {},
   "outputs": [],
   "source": [
    "\n",
    "# Exemple de dictionnaire contenant les pertes pour chaque fonction\n",
    "\n",
    "\n",
    "# Tracé des courbes\n",
    "plt.figure(figsize=(6, 5))\n",
    "for function_name, losses in loss_history.items():\n",
    "    epochs = range(1, len(losses) + 1)  # Crée un range d'époques correspondant à chaque liste de pertes\n",
    "    plt.plot(epochs, losses, marker='o', label=function_name)\n",
    "    print(f\"{function_name} {params_description} : {', '.join([f'{loss:.3f}' for loss in losses])}\")\n",
    "\n",
    "\n",
    "# Personnalisation du graphique\n",
    "plt.title(f\"{Function_name} {params_description}, Évolution des pertes en fonction des époques\", fontsize=10)\n",
    "plt.xlabel(\"Époques\", fontsize=12)\n",
    "plt.ylabel(\"Pertes\", fontsize=12)\n",
    "plt.legend(title=\"Fonctions\", fontsize=10)\n",
    "plt.grid(alpha=0.3)\n",
    "\n",
    "# Affichage\n",
    "plt.tight_layout()\n",
    "plt.show()\n"
   ]
  }
 ],
 "metadata": {
  "accelerator": "GPU",
  "colab": {
   "provenance": [],
   "toc_visible": true
  },
  "kernelspec": {
   "display_name": "brian2_env",
   "language": "python",
   "name": "python3"
  },
  "language_info": {
   "codemirror_mode": {
    "name": "ipython",
    "version": 3
   },
   "file_extension": ".py",
   "mimetype": "text/x-python",
   "name": "python",
   "nbconvert_exporter": "python",
   "pygments_lexer": "ipython3",
   "version": "3.11.9"
  }
 },
 "nbformat": 4,
 "nbformat_minor": 1
}
