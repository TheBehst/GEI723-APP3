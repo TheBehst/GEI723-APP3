{
 "cells": [
  {
   "cell_type": "markdown",
   "metadata": {
    "id": "PWTf7H60Z0i_"
   },
   "source": [
    "# Rétropropagation de l'erreur dans les réseaux de neurones à décharges, GEI723, Automne 2024\n",
    "Ce notebook présente comment l'algorithme de la descente du gradient peut être adapté pour la rétropropagation de l'erreur dans les réseaux de neurones à décharges avec des fonctions d'activation non dérivables.\n",
    "Ce notebook est utilisé dans le cadre du cours GEI723 (Neuro-Computationnel) créé par Ismaël Balafrej, Ph.D. avec Jean Rouat, Ph.D., ing., professeur et adapté par Ahmad El Ferdaoussi, Ph.D. et Arnaud Yarga, étud. Ph.D.\n",
    "\n",
    "Copyright (c) 2019-2024, Université de Sherbrooke, groupe de recherche NECOTIS. Tous droits réservés.  \n",
    "Auteurs: Ismael Balafrej, Jean Rouat, adapté par Ahmad El Ferdaoussi et Arnaud Yarga\n",
    "\n",
    "### Ce code n'est pas destiné à être rendu public et appartient aux auteurs.\n",
    "\n",
    "Ce travail est adapté et inspiré des articles suivants:\n",
    "1. Surrogate Gradient Learning in Spiking Neural Networks by Zenke & Ganguli (2018) https://arxiv.org/pdf/1901.09948.pdf\n",
    "2. SLAYER: Spike Layer Error Reassignment in Time (2018) https://arxiv.org/pdf/1810.08646.pdf\n",
    "3. Biologically inspired alternatives to backpropagation through time for learning in recurrent neural nets (2019) https://arxiv.org/pdf/1901.09049.pdf\n",
    "\n",
    "## ATTENTION, code à compléter. La structure donnée est un exemple\n",
    "Vous devez compléter la partie du code qui porte sur les équations des neurones afin de pouvoir faire fonctionner le notebook. L'exemple donné ici suppose une façon d'implémenter les équations. Il est possible d'implémenter autrement. En fait, il est possible de travailler soit en utilisant Euler (par exemple) pour intégrer numériquement les équations ou à partir des équations que vous avez trouvées en faisant vous même l'intégration préalable des équations différentielles.\n",
    "\n",
    "## Dans cet exemple de code la gestion du potentiel et de l'intensité du neurone est placé dans la gestion des couches.\n",
    "Vous pouvez décider de le faire autrement, par exemple dans la phase de propagation avant."
   ]
  },
  {
   "cell_type": "markdown",
   "metadata": {
    "id": "qpKksf2Ik4ga"
   },
   "source": [
    "# Packages et imports"
   ]
  },
  {
   "cell_type": "code",
   "execution_count": null,
   "metadata": {
    "id": "IJGOX5B8F7ic"
   },
   "outputs": [
    {
     "name": "stdout",
     "output_type": "stream",
     "text": [
      "Requirement already satisfied: quantities in c:\\users\\cllam\\appdata\\local\\programs\\python\\python312\\lib\\site-packages (0.16.1)\n",
      "Requirement already satisfied: sparse in c:\\users\\cllam\\appdata\\local\\programs\\python\\python312\\lib\\site-packages (0.15.4)\n",
      "Requirement already satisfied: numpy>=1.20 in c:\\users\\cllam\\appdata\\local\\programs\\python\\python312\\lib\\site-packages (from quantities) (2.0.2)\n",
      "Requirement already satisfied: scipy>=0.19 in c:\\users\\cllam\\appdata\\local\\programs\\python\\python312\\lib\\site-packages (from sparse) (1.14.1)\n",
      "Requirement already satisfied: numba>=0.49 in c:\\users\\cllam\\appdata\\local\\programs\\python\\python312\\lib\\site-packages (from sparse) (0.60.0)\n",
      "Requirement already satisfied: llvmlite<0.44,>=0.43.0dev0 in c:\\users\\cllam\\appdata\\local\\programs\\python\\python312\\lib\\site-packages (from numba>=0.49->sparse) (0.43.0)\n"
     ]
    },
    {
     "name": "stderr",
     "output_type": "stream",
     "text": [
      "\n",
      "[notice] A new release of pip is available: 24.2 -> 24.3.1\n",
      "[notice] To update, run: python.exe -m pip install --upgrade pip\n"
     ]
    }
   ],
   "source": [
    "%pip install quantities sparse\n",
    "\n",
    "import numpy as np\n",
    "import matplotlib.pyplot as plt\n",
    "from sklearn import datasets, model_selection, utils\n",
    "import torch\n",
    "import quantities as units\n",
    "from sparse import COO"
   ]
  },
  {
   "cell_type": "markdown",
   "metadata": {
    "id": "BspwdQSOk8U-"
   },
   "source": [
    "# Configuration"
   ]
  },
  {
   "cell_type": "code",
   "execution_count": 11,
   "metadata": {
    "id": "ngz0VkgVmJB6"
   },
   "outputs": [],
   "source": [
    "# Reproducibility\n",
    "torch.manual_seed(0)\n",
    "np.random.seed(0)\n",
    "\n",
    "# Use the GPU unless there is none available.\n",
    "# If you don't have a CUDA enabled GPU, I recommned using Google Colab,\n",
    "# available at https://colab.research.google.com. Create a new notebook\n",
    "# and then go to Runtime -> Change runtime type -> Hardware accelerator -> GPU\n",
    "# Colab gives you access to up to 12 free continuous hours of a fairly recent GPU.\n",
    "device = torch.device(\"cuda\") if torch.cuda.is_available() else torch.device(\"cpu\")\n"
   ]
  },
  {
   "cell_type": "markdown",
   "metadata": {
    "id": "frOGRjz0mL_5"
   },
   "source": [
    "# Préparation des données"
   ]
  },
  {
   "cell_type": "code",
   "execution_count": 12,
   "metadata": {
    "id": "hp-KevLKmLLP"
   },
   "outputs": [],
   "source": [
    "# Let's download the MNIST dataset, available at https://www.openml.org/d/554\n",
    "# You can edit the argument data_home to the directory of your choice.\n",
    "# The dataset will be downloaded there; the default directory is ~/scikit_learn_data/\n",
    "X, y = datasets.fetch_openml('mnist_784', version=1, return_X_y=True, data_home=None, as_frame=False)\n",
    "nb_of_samples, nb_of_features = X.shape\n",
    "# X = 70k samples, 28*28 features; y = 70k samples, 1 label (string)\n",
    "\n",
    "# Shuffle the dataset\n",
    "X, y = utils.shuffle(X, y)\n",
    "\n",
    "# Convert the labels (string) to integers for convenience\n",
    "y = np.array(y, dtype=int)\n",
    "nb_of_ouputs = np.max(y) + 1\n",
    "\n",
    "# We'll normalize our input data in the range [0, 1[.\n",
    "X = X / pow(2, 8)"
   ]
  },
  {
   "cell_type": "markdown",
   "metadata": {
    "id": "dgamMat1mXvu"
   },
   "source": [
    "# Conversion en décharges"
   ]
  },
  {
   "cell_type": "code",
   "execution_count": 13,
   "metadata": {
    "id": "moU3ZUh8mSFG",
    "scrolled": true
   },
   "outputs": [],
   "source": [
    "# And convert the data to a spike train using TTFS encoding\n",
    "dt = 1*units.ms\n",
    "duration_per_image = 100*units.ms\n",
    "absolute_duration = int(duration_per_image / dt)\n",
    "\n",
    "time_of_spike = (1 - X) * absolute_duration  # The brighter the pixel, the earlier the spike\n",
    "time_of_spike[X < .25] = 0  # \"Remove\" the spikes associated with darker pixels, which presumably carry less information\n",
    "\n",
    "sample_id, neuron_idx = np.nonzero(time_of_spike)\n",
    "\n",
    "# We use a sparse COO array to store the spikes for memory requirements\n",
    "# You can use the spike_train variable as if it were a tensor of shape (nb_of_samples, nb_of_features, absolute_duration)\n",
    "spike_train = COO((sample_id, neuron_idx, time_of_spike[sample_id, neuron_idx].astype(int)),\n",
    "                  np.ones_like(sample_id), shape=(nb_of_samples, nb_of_features, absolute_duration))\n",
    "\n"
   ]
  },
  {
   "cell_type": "markdown",
   "metadata": {
    "id": "IAxIwqtumyda"
   },
   "source": [
    "# Split entrainement/test"
   ]
  },
  {
   "cell_type": "code",
   "execution_count": 14,
   "metadata": {
    "id": "9ffhq5RQm1Gg"
   },
   "outputs": [],
   "source": [
    "# Split in train/test\n",
    "nb_of_train_samples = int(nb_of_samples * 0.85)  # Keep 15% of the dataset for testing\n",
    "train_indices = np.arange(nb_of_train_samples)\n",
    "test_indices = np.arange(nb_of_train_samples, nb_of_samples)"
   ]
  },
  {
   "cell_type": "markdown",
   "metadata": {
    "id": "ZWlfjmhjmdPz"
   },
   "source": [
    "# Création du réseau"
   ]
  },
  {
   "cell_type": "code",
   "execution_count": 15,
   "metadata": {
    "id": "wqeJ9wNBm_84"
   },
   "outputs": [
    {
     "data": {
      "text/plain": [
       "tensor([[ 0.0166, -0.0201, -0.0915,  ...,  0.1204, -0.0279,  0.1034],\n",
       "        [ 0.0904, -0.0630, -0.0854,  ...,  0.1121, -0.0862, -0.1139],\n",
       "        [ 0.0663, -0.0444,  0.0240,  ...,  0.0991, -0.0835,  0.0579],\n",
       "        ...,\n",
       "        [-0.2037,  0.0690,  0.0162,  ..., -0.0634,  0.0101, -0.0868],\n",
       "        [ 0.0544, -0.1185,  0.1433,  ..., -0.0279, -0.0658,  0.1325],\n",
       "        [ 0.0045,  0.0288,  0.0155,  ..., -0.0239, -0.0366, -0.0218]],\n",
       "       requires_grad=True)"
      ]
     },
     "execution_count": 15,
     "metadata": {},
     "output_type": "execute_result"
    }
   ],
   "source": [
    "# We create a 2 layer network (1 hidden, 1 output)\n",
    "nb_hidden = 128  # Number of hidden neurons\n",
    "\n",
    "w1 = torch.empty((nb_of_features, nb_hidden), device=device, dtype=torch.float, requires_grad=True)\n",
    "torch.nn.init.normal_(w1, mean=0., std=.1)\n",
    "\n",
    "w2 = torch.empty((nb_hidden, nb_of_ouputs), device=device, dtype=torch.float, requires_grad=True)\n",
    "torch.nn.init.normal_(w2, mean=0., std=.1)\n"
   ]
  },
  {
   "cell_type": "markdown",
   "metadata": {},
   "source": [
    "# Différentes fonctions d'activation et leur dérrivées"
   ]
  },
  {
   "cell_type": "code",
   "execution_count": null,
   "metadata": {},
   "outputs": [],
   "source": [
    "\n",
    "def relu_forward(input):\n",
    "    \"\"\"Propagation avant pour ReLU\"\"\"\n",
    "    out = torch.where(input > 0, torch.ones_like(input), torch.zeros_like(input))\n",
    "    return out\n",
    "\n",
    "def relu_backward(input):\n",
    "    \"\"\"Rétropropagation pour ReLU\"\"\"\n",
    "    grad_input = torch.ones_like(input)\n",
    "    grad_input[input < 0] = 0\n",
    "    return grad_input\n",
    "\n",
    "def leaky_relu_forward(input, alpha=0.01):\n",
    "    \"\"\"Propagation avant pour Leaky ReLU\"\"\"\n",
    "    out = torch.where(input > 0, input, alpha * input)  # Leaky ReLU avec alpha\n",
    "    return out\n",
    "\n",
    "def leaky_relu_backward(input, alpha=0.01):\n",
    "    \"\"\"Rétropropagation pour Leaky ReLU\"\"\"\n",
    "    grad_input = torch.ones_like(input)\n",
    "    grad_input[input < 0] = alpha  # La dérivée du leaky ReLU est alpha pour les valeurs négatives\n",
    "    return grad_input\n",
    "\n",
    "def abs_relu_forward(input):\n",
    "    \"\"\"Propagation avant pour ReLU absolu\"\"\"\n",
    "    out = torch.abs(input)  # ReLU absolu\n",
    "    return out\n",
    "\n",
    "def abs_relu_backward(input):\n",
    "    \"\"\"Rétropropagation pour ReLU absolu\"\"\"\n",
    "    grad_input = torch.ones_like(input)\n",
    "    grad_input[input < 0] = -1  # La dérivée du ReLU absolu est -1 pour les valeurs négatives\n",
    "    return grad_input\n",
    "\n"
   ]
  },
  {
   "cell_type": "markdown",
   "metadata": {},
   "source": [
    "# Classe pour la rétropropagation de l'erreur"
   ]
  },
  {
   "cell_type": "code",
   "execution_count": null,
   "metadata": {
    "id": "rrZ3qeWfnBwj"
   },
   "outputs": [],
   "source": [
    "\n",
    "\n",
    "class SpikeFunction(torch.autograd.Function):\n",
    "    \"\"\"\n",
    "    Cette classe permet de calculer la sortie d'une fonction lors de la propagation avant\n",
    "    et de personnaliser la dérivée lors de la rétropropagation de l'erreur.\n",
    "    \"\"\"\n",
    "\n",
    "    @staticmethod\n",
    "    def forward(ctx, input, activation_type='relu', alpha=0.01):\n",
    "        \"\"\"\n",
    "        Dans la passe avant, nous recevons un tenseur contenant l'entrée (potential-threshold).\n",
    "        Nous appliquons la fonction d'activation choisie.\n",
    "        \"\"\"\n",
    "        ctx.save_for_backward(input)\n",
    "        ctx.activation_type = activation_type\n",
    "        ctx.alpha = alpha\n",
    "        \n",
    "        # Choisir la fonction d'activation en fonction du type spécifié\n",
    "        if activation_type == 'relu':\n",
    "            out = relu_forward(input)\n",
    "        elif activation_type == 'leaky_relu':\n",
    "            out = leaky_relu_forward(input, alpha)\n",
    "        elif activation_type == 'abs_relu':\n",
    "            out = abs_relu_forward(input)\n",
    "        else:\n",
    "            raise ValueError(f\"Activation type '{activation_type}' is not supported.\")\n",
    "        \n",
    "        return out\n",
    "\n",
    "    @staticmethod\n",
    "    def backward(ctx, grad_output):\n",
    "        \"\"\"\n",
    "        Dans la passe arrière, nous recevons un tenseur contenant le gradient de l'erreur par rapport à la sortie.\n",
    "        Nous calculons le gradient de l'erreur par rapport à l'entrée en fonction de l'activation choisie.\n",
    "        \"\"\"\n",
    "        input, = ctx.saved_tensors\n",
    "        activation_type = ctx.activation_type\n",
    "        alpha = ctx.alpha\n",
    "        \n",
    "        # Choisir la fonction d'activation en fonction du type spécifié\n",
    "        if activation_type == 'relu':\n",
    "            grad_input = relu_backward(input)\n",
    "        elif activation_type == 'leaky_relu':\n",
    "            grad_input = leaky_relu_backward(input, alpha)\n",
    "        elif activation_type == 'abs_relu':\n",
    "            grad_input = abs_relu_backward(input)\n",
    "        else:\n",
    "            raise ValueError(f\"Activation type '{activation_type}' is not supported.\")\n",
    "        \n",
    "        # Retourner le gradient de l'entrée\n",
    "        return grad_output * grad_input\n",
    "\n",
    "\n",
    "\n",
    "\n",
    "\n",
    "# \"\"\"\n",
    "# Cette class permet de calculer la sortie d'une fonction lors de la propagation avant et de personaliser la derivée lors de la retropropagation de l'erreur.\n",
    "# Voir cet exemple pour plus de détails : https://pytorch.org/tutorials/beginner/examples_autograd/two_layer_net_custom_function.html\n",
    "# \"\"\"\n",
    "# class SpikeFunction(torch.autograd.Function):\n",
    "#     \"\"\"\n",
    "#     Dans la passe avant, nous recevons un tenseur contenant l'entrée (potential-threshold).\n",
    "#     Nous appliquons la fonction Heaviside et renvoyons un tenseur contenant la sortie.\n",
    "#     \"\"\"\n",
    "#     @staticmethod\n",
    "#     def forward(ctx, input):\n",
    "#         ctx.save_for_backward(input)\n",
    "#         out = torch.zeros_like(input)\n",
    "#         out[input > 0] = 1.0 # On génère une décharge quand (potential-threshold) > 0\n",
    "#         return out\n",
    "\n",
    "#     \"\"\"\n",
    "#     Dans la passe arrière, nous recevons un tenseur contenant le gradient de l'erreur par rapport à la sortie.\n",
    "#     Nous calculons le gradient de l'erreur par rapport à l'entrée en utilisant la dérivée de la fonction ReLu.\n",
    "#     \"\"\"\n",
    "#     @staticmethod\n",
    "#     def backward(ctx, grad_output):\n",
    "#         input, = ctx.saved_tensors\n",
    "#         grad_relu = torch.ones_like(input) # La dérivée de la fonction ReLU\n",
    "#         grad_relu[input < 0] = 0          # La dérivée de la fonction ReLU\n",
    "#         return grad_output.clone()*grad_relu"
   ]
  },
  {
   "cell_type": "code",
   "execution_count": null,
   "metadata": {
    "id": "xAXZCMNsnIri"
   },
   "outputs": [],
   "source": [
    "def run_spiking_layer(input_spike_train, layer_weights, tau_v=20*units.ms, tau_i=5*units.ms, v_threshold=1.0):\n",
    "    \"\"\"Here we implement a current-LIF dynamic in PyTorch\"\"\"\n",
    "\n",
    "    # First, we multiply the input spike train by the weights of the current layer to get the current that will be added\n",
    "    # We can calculate this beforehand because the weights are constant in the forward pass (no plasticity)\n",
    "    input_current = torch.einsum(\"abc,bd->adc\", (input_spike_train, layer_weights))  # Equivalent to a matrix multiplication for tensors of dim > 2 using Einstein's Notation\n",
    "\n",
    "    recorded_spikes = []  # Array of the output spikes at each time t\n",
    "    membrane_potential_at_t = torch.zeros((input_spike_train.shape[0], layer_weights.shape[-1]), device=device, dtype=torch.float)\n",
    "    membrane_current_at_t = torch.zeros((input_spike_train.shape[0], layer_weights.shape[-1]), device=device, dtype=torch.float)\n",
    "\n",
    "    for t in range(absolute_duration):  # For every timestep\n",
    "        # Apply the leak\n",
    "        membrane_potential_at_t = float(np.exp(-dt/tau_v))*membrane_potential_at_t # Using tau_v with euler or exact method\n",
    "        membrane_current_at_t = float(np.exp(-dt/tau_i))*membrane_current_at_t # Using tau_i with euler or exact method\n",
    "\n",
    "        # Select the input current at time t\n",
    "        input_at_t = input_current[:, :, t]\n",
    "\n",
    "        # Integrate the input current\n",
    "        membrane_current_at_t += input_at_t\n",
    "\n",
    "        # Integrate the input to the membrane potential\n",
    "        membrane_potential_at_t += membrane_current_at_t\n",
    "\n",
    "        # Apply the non-differentiable function\n",
    "        #recorded_spikes_at_t = SpikeFunction.apply(membrane_potential_at_t - v_threshold)\n",
    "        recorded_spikes_at_t = SpikeFunction.apply(membrane_potential_at_t - v_threshold, activation_type='relu')\n",
    "        #activation_type='leaky_relu', alpha=0.01\n",
    "        #activation_type='abs_relu'\n",
    "\n",
    "        \n",
    "        recorded_spikes.append(recorded_spikes_at_t)\n",
    "\n",
    "        # Reset the spiked neurons\n",
    "        membrane_potential_at_t[membrane_potential_at_t > v_threshold] = 0\n",
    "\n",
    "    recorded_spikes = torch.stack(recorded_spikes, dim=2) # Stack over time axis (Array -> Tensor)\n",
    "    return recorded_spikes\n"
   ]
  },
  {
   "cell_type": "markdown",
   "metadata": {
    "id": "xNEAhvjlnVqF"
   },
   "source": [
    "# Entrainement"
   ]
  },
  {
   "cell_type": "code",
   "execution_count": null,
   "metadata": {
    "id": "dPyehEEZzc4x"
   },
   "outputs": [
    {
     "name": "stdout",
     "output_type": "stream",
     "text": [
      "Epoch 1 -- loss : 327.6027\n",
      "Epoch 2 -- loss : 291.1524\n",
      "Epoch 3 -- loss : 285.9956\n",
      "Epoch 4 -- loss : 284.2993\n"
     ]
    }
   ],
   "source": [
    "# Set-up training\n",
    "nb_of_epochs = 20\n",
    "batch_size = 256  # The backpropagation is done after every batch, but a batch here is also used for memory requirements\n",
    "number_of_batches = len(train_indices) // batch_size\n",
    "\n",
    "params = [w1, w2]  # Trainable parameters\n",
    "optimizer = torch.optim.Adam(params, lr=0.01, amsgrad=True)\n",
    "loss_fn = torch.nn.MSELoss(reduction='mean')\n",
    "\n",
    "for e in range(nb_of_epochs):\n",
    "    epoch_loss = 0\n",
    "    for batch in np.array_split(train_indices, number_of_batches):\n",
    "        # Select batch and convert to tensors\n",
    "        batch_spike_train = torch.FloatTensor(spike_train[batch].todense()).to(device)\n",
    "        batch_labels = torch.LongTensor(y[batch, np.newaxis]).to(device)\n",
    "\n",
    "        # Here we create a target spike count (10 spikes for wrong label, 100 spikes for true label) in a one-hot fashion\n",
    "        # This approach is seen in Shrestha & Orchard (2018) https://arxiv.org/pdf/1810.08646.pdf\n",
    "        # Code available at https://github.com/bamsumit/slayerPytorch\n",
    "        min_spike_count = 10 * torch.ones((batch.shape[0], 10), device=device, dtype=torch.float)\n",
    "        target_output = min_spike_count.scatter_(1, batch_labels, 100.0)\n",
    "\n",
    "        # Forward propagation\n",
    "        layer_1_spikes = run_spiking_layer(batch_spike_train, w1)\n",
    "        layer_2_spikes = run_spiking_layer(layer_1_spikes, w2)\n",
    "        network_output = torch.sum(layer_2_spikes, 2)  # Count the spikes over time axis\n",
    "        loss = loss_fn(network_output, target_output)\n",
    "\n",
    "        # Backward propagation\n",
    "        optimizer.zero_grad()\n",
    "        loss.backward()\n",
    "        optimizer.step()\n",
    "        epoch_loss += loss.item()\n",
    "\n",
    "    print(\"Epoch %i -- loss : %.4f\" %(e+1, epoch_loss / number_of_batches))"
   ]
  },
  {
   "cell_type": "markdown",
   "metadata": {
    "id": "0j4qQrgVnihY"
   },
   "source": [
    "# Test"
   ]
  },
  {
   "cell_type": "code",
   "execution_count": null,
   "metadata": {
    "id": "NgQyFnPetmxQ"
   },
   "outputs": [],
   "source": [
    "# Test the accuracy of the model\n",
    "correct_label_count = 0\n",
    "\n",
    "# We only need to batchify the test set for memory requirements\n",
    "for batch in np.array_split(test_indices,  len(test_indices) // batch_size):\n",
    "    test_spike_train = torch.FloatTensor(spike_train[batch].todense()).to(device)\n",
    "\n",
    "    # Same forward propagation as before\n",
    "    layer_1_spikes = run_spiking_layer(test_spike_train, w1)\n",
    "    layer_2_spikes = run_spiking_layer(layer_1_spikes, w2)\n",
    "    network_output = torch.sum(layer_2_spikes, 2)  # Count the spikes over time axis\n",
    "\n",
    "    # Do the prediction by selecting the output neuron with the most number of spikes\n",
    "    _, am = torch.max(network_output, 1)\n",
    "    correct_label_count += np.sum(am.detach().cpu().numpy() == y[batch])\n",
    "\n",
    "print(\"Model accuracy on test set: %.3f\" % (correct_label_count / len(test_indices)))"
   ]
  },
  {
   "cell_type": "markdown",
   "metadata": {},
   "source": [
    "# Validation"
   ]
  }
 ],
 "metadata": {
  "accelerator": "GPU",
  "colab": {
   "provenance": [],
   "toc_visible": true
  },
  "kernelspec": {
   "display_name": "Python 3 (ipykernel)",
   "language": "python",
   "name": "python3"
  },
  "language_info": {
   "codemirror_mode": {
    "name": "ipython",
    "version": 3
   },
   "file_extension": ".py",
   "mimetype": "text/x-python",
   "name": "python",
   "nbconvert_exporter": "python",
   "pygments_lexer": "ipython3",
   "version": "3.9.15"
  }
 },
 "nbformat": 4,
 "nbformat_minor": 1
}
