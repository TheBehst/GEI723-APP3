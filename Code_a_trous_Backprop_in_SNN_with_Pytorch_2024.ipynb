{
 "cells": [
  {
   "cell_type": "markdown",
   "metadata": {
    "id": "PWTf7H60Z0i_"
   },
   "source": [
    "# Rétropropagation de l'erreur dans les réseaux de neurones à décharges\n",
    "### GEI723, Automne 2024\n",
    "Ce notebook présente comment l'algorithme de la descente du gradient peut être adapté pour la rétropropagation de l'erreur dans les réseaux de neurones à décharges avec des fonctions d'activation non dérivables.\n",
    "\n",
    "Ce notebook est utilisé dans le cadre du cours GEI723 (Neuro-Computationnel).\n",
    "\n",
    "- **Encodage de l'entrée** : Les entrées sont encodées sous forme de trains de spikes.\n",
    "- **Structure du réseau** : Réseau de neurones à décharges avec plusieurs couches, utilisant différentes fonctions d'activation\n",
    "- **Études menées** : \n",
    "  - Impact des fonctions d'activation et des dérivées sur la performance.\n",
    "  - Analyse des méta-paramètres (nombre de couches, taux d'apprentissage, taille des lots).\n",
    "  - Comparaison entre réseaux avec et sans apprentissage sur certaines couches.\n",
    "- **Objectif du code** : Optimisation et analyse de la rétropropagation de l'erreur des réseaux de neurones à décharges.\n",
    "\n",
    "**Auteurs :**\n",
    "Clémence Lamballe\n",
    "Behrouz Nik-Nejad-Kazem-Pour\n",
    "Jean-Sébastien Giroux\n"
   ]
  },
  {
   "cell_type": "markdown",
   "metadata": {},
   "source": [
    "### Sources :"
   ]
  },
  {
   "cell_type": "markdown",
   "metadata": {},
   "source": [
    "Ce notebook a été inspiré du notebook créé par Ismaël Balafrej, Ph.D. avec Jean Rouat, Ph.D., ing., professeur et adapté par Ahmad El Ferdaoussi, Ph.D. et Arnaud Yarga, étud. Ph.D, dont le copyright et les auteurs sont:\n",
    "\n",
    "Copyright (c) 2019-2024, Université de Sherbrooke, groupe de recherche NECOTIS. Tous droits réservés.  \n",
    "Auteurs: Ismael Balafrej, Jean Rouat, adapté par Ahmad El Ferdaoussi et Arnaud Yarga\n",
    "\n",
    "\n",
    "Ce travail a lui même été adapté et inspiré des articles suivants:\n",
    "1. Surrogate Gradient Learning in Spiking Neural Networks by Zenke & Ganguli (2018) https://arxiv.org/pdf/1901.09948.pdf\n",
    "2. SLAYER: Spike Layer Error Reassignment in Time (2018) https://arxiv.org/pdf/1810.08646.pdf\n",
    "3. Biologically inspired alternatives to backpropagation through time for learning in recurrent neural nets (2019) https://arxiv.org/pdf/1901.09049.pdf\n",
    "\n",
    "\n",
    "Dans cet exemple de code la gestion du potentiel et de l'intensité du neurone est placé dans la gestion des couches.\n",
    "Vous pouvez décider de le faire autrement, par exemple dans la phase de propagation avant."
   ]
  },
  {
   "cell_type": "markdown",
   "metadata": {
    "id": "qpKksf2Ik4ga"
   },
   "source": [
    "# Packages et imports"
   ]
  },
  {
   "cell_type": "code",
   "execution_count": 1,
   "metadata": {
    "id": "IJGOX5B8F7ic"
   },
   "outputs": [
    {
     "name": "stderr",
     "output_type": "stream",
     "text": [
      "\n",
      "[notice] A new release of pip is available: 24.2 -> 24.3.1\n",
      "[notice] To update, run: python.exe -m pip install --upgrade pip\n"
     ]
    },
    {
     "name": "stdout",
     "output_type": "stream",
     "text": [
      "Requirement already satisfied: quantities in c:\\users\\cllam\\appdata\\local\\programs\\python\\python312\\lib\\site-packages (0.16.1)\n",
      "Requirement already satisfied: sparse in c:\\users\\cllam\\appdata\\local\\programs\\python\\python312\\lib\\site-packages (0.15.4)\n",
      "Requirement already satisfied: numpy>=1.20 in c:\\users\\cllam\\appdata\\local\\programs\\python\\python312\\lib\\site-packages (from quantities) (2.0.2)\n",
      "Requirement already satisfied: scipy>=0.19 in c:\\users\\cllam\\appdata\\local\\programs\\python\\python312\\lib\\site-packages (from sparse) (1.14.1)\n",
      "Requirement already satisfied: numba>=0.49 in c:\\users\\cllam\\appdata\\local\\programs\\python\\python312\\lib\\site-packages (from sparse) (0.60.0)\n",
      "Requirement already satisfied: llvmlite<0.44,>=0.43.0dev0 in c:\\users\\cllam\\appdata\\local\\programs\\python\\python312\\lib\\site-packages (from numba>=0.49->sparse) (0.43.0)\n",
      "Note: you may need to restart the kernel to use updated packages.\n"
     ]
    }
   ],
   "source": [
    "%pip install quantities sparse\n",
    "\n",
    "import numpy as np\n",
    "import matplotlib.pyplot as plt\n",
    "from sklearn import datasets, model_selection, utils\n",
    "import torch\n",
    "import quantities as units\n",
    "from sparse import COO\n"
   ]
  },
  {
   "cell_type": "markdown",
   "metadata": {
    "id": "BspwdQSOk8U-"
   },
   "source": [
    "# Configuration"
   ]
  },
  {
   "cell_type": "code",
   "execution_count": 2,
   "metadata": {
    "id": "ngz0VkgVmJB6"
   },
   "outputs": [],
   "source": [
    "# Reproducibility\n",
    "torch.manual_seed(0)\n",
    "np.random.seed(0)\n",
    "\n",
    "# Use the GPU unless there is none available.\n",
    "# If you don't have a CUDA enabled GPU, I recommned using Google Colab,\n",
    "# available at https://colab.research.google.com. Create a new notebook\n",
    "# and then go to Runtime -> Change runtime type -> Hardware accelerator -> GPU\n",
    "# Colab gives you access to up to 12 free continuous hours of a fairly recent GPU.\n",
    "device = torch.device(\"cuda\") if torch.cuda.is_available() else torch.device(\"cpu\")\n"
   ]
  },
  {
   "cell_type": "markdown",
   "metadata": {
    "id": "frOGRjz0mL_5"
   },
   "source": [
    "# Préparation des données"
   ]
  },
  {
   "cell_type": "code",
   "execution_count": 3,
   "metadata": {
    "id": "hp-KevLKmLLP"
   },
   "outputs": [],
   "source": [
    "# Let's download the MNIST dataset, available at https://www.openml.org/d/554\n",
    "# You can edit the argument data_home to the directory of your choice.\n",
    "# The dataset will be downloaded there; the default directory is ~/scikit_learn_data/\n",
    "X, y = datasets.fetch_openml('mnist_784', version=1, return_X_y=True, data_home=None, as_frame=False)\n",
    "nb_of_samples, nb_of_features = X.shape\n",
    "# X = 70k samples, 28*28 features; y = 70k samples, 1 label (string)\n",
    "\n",
    "# Shuffle the dataset\n",
    "X, y = utils.shuffle(X, y)\n",
    "\n",
    "# Convert the labels (string) to integers for convenience\n",
    "y = np.array(y, dtype=int)\n",
    "nb_of_ouputs = np.max(y) + 1\n",
    "\n",
    "# We'll normalize our input data in the range [0, 1[.\n",
    "X = X / pow(2, 8)"
   ]
  },
  {
   "cell_type": "markdown",
   "metadata": {
    "id": "dgamMat1mXvu"
   },
   "source": [
    "# Conversion en décharges"
   ]
  },
  {
   "cell_type": "code",
   "execution_count": 4,
   "metadata": {
    "id": "moU3ZUh8mSFG",
    "scrolled": true
   },
   "outputs": [],
   "source": [
    "# And convert the data to a spike train using TTFS encoding\n",
    "dt = 1*units.ms\n",
    "duration_per_image = 100*units.ms\n",
    "absolute_duration = int(duration_per_image / dt)\n",
    "\n",
    "time_of_spike = (1 - X) * absolute_duration  # The brighter the pixel, the earlier the spike\n",
    "time_of_spike[X < .25] = 0  # \"Remove\" the spikes associated with darker pixels, which presumably carry less information\n",
    "\n",
    "sample_id, neuron_idx = np.nonzero(time_of_spike)\n",
    "\n",
    "# We use a sparse COO array to store the spikes for memory requirements\n",
    "# You can use the spike_train variable as if it were a tensor of shape (nb_of_samples, nb_of_features, absolute_duration)\n",
    "spike_train = COO((sample_id, neuron_idx, time_of_spike[sample_id, neuron_idx].astype(int)),\n",
    "                  np.ones_like(sample_id), shape=(nb_of_samples, nb_of_features, absolute_duration))\n",
    "\n"
   ]
  },
  {
   "cell_type": "markdown",
   "metadata": {
    "id": "IAxIwqtumyda"
   },
   "source": [
    "# Split entrainement/test/Validation"
   ]
  },
  {
   "cell_type": "code",
   "execution_count": 21,
   "metadata": {},
   "outputs": [
    {
     "name": "stdout",
     "output_type": "stream",
     "text": [
      "nb_of_samples = 70000\n",
      "\n",
      "train_indices = [    0     1     2 ... 55997 55998 55999]\n",
      "train_indices.shape = (56000,)\n",
      "\n",
      "validation_indices = [56000 56001 56002 ... 62997 62998 62999]\n",
      "validation_indices.shape = (7000,)\n",
      "\n",
      "test_indices = [63000 63001 63002 ... 69997 69998 69999]\n",
      "test_indices.shape = (7000,)\n",
      "\n",
      "total = 70000\n"
     ]
    }
   ],
   "source": [
    "# Nombre total d'échantillons\n",
    "print(\"nb_of_samples =\", nb_of_samples)\n",
    "\n",
    "# 80% pour l'entraînement\n",
    "nb_of_train_samples = int(nb_of_samples * 0.80)\n",
    "\n",
    "# 10% pour test\n",
    "nb_of_test_samples = int(nb_of_samples * 0.10)\n",
    "\n",
    "# 10% pour validation\n",
    "nb_of_validation_samples = nb_of_samples - nb_of_train_samples - nb_of_test_samples\n",
    "\n",
    "# Création des indices\n",
    "train_indices = np.arange(nb_of_train_samples)\n",
    "validation_indices = np.arange(nb_of_train_samples, nb_of_train_samples + nb_of_validation_samples)\n",
    "test_indices = np.arange(nb_of_train_samples + nb_of_validation_samples, nb_of_samples)\n",
    "\n",
    "\n",
    "print(\"\\ntrain_indices =\", train_indices)\n",
    "print(\"train_indices.shape =\", train_indices.shape)\n",
    "\n",
    "\n",
    "print(\"\\nvalidation_indices =\", validation_indices)\n",
    "print(\"validation_indices.shape =\", validation_indices.shape)\n",
    "\n",
    "print(\"\\ntest_indices =\", test_indices)\n",
    "print(\"test_indices.shape =\", test_indices.shape)\n",
    "\n",
    "\n",
    "total_samples = train_indices.shape[0] + test_indices.shape[0] + validation_indices.shape[0]\n",
    "print(\"\\ntotal =\", total_samples)\n"
   ]
  },
  {
   "cell_type": "markdown",
   "metadata": {
    "id": "ZWlfjmhjmdPz"
   },
   "source": [
    "# Création du réseau"
   ]
  },
  {
   "cell_type": "code",
   "execution_count": 6,
   "metadata": {
    "id": "wqeJ9wNBm_84"
   },
   "outputs": [
    {
     "data": {
      "text/plain": [
       "tensor([[ 0.0166, -0.0201, -0.0915,  ...,  0.1204, -0.0279,  0.1034],\n",
       "        [ 0.0904, -0.0630, -0.0854,  ...,  0.1121, -0.0862, -0.1139],\n",
       "        [ 0.0663, -0.0444,  0.0240,  ...,  0.0991, -0.0835,  0.0579],\n",
       "        ...,\n",
       "        [-0.2037,  0.0690,  0.0162,  ..., -0.0634,  0.0101, -0.0868],\n",
       "        [ 0.0544, -0.1185,  0.1433,  ..., -0.0279, -0.0658,  0.1325],\n",
       "        [ 0.0045,  0.0288,  0.0155,  ..., -0.0239, -0.0366, -0.0218]],\n",
       "       requires_grad=True)"
      ]
     },
     "execution_count": 6,
     "metadata": {},
     "output_type": "execute_result"
    }
   ],
   "source": [
    "# We create a 2 layer network (1 hidden, 1 output)\n",
    "nb_hidden = 128  # Number of hidden neurons\n",
    "\n",
    "w1 = torch.empty((nb_of_features, nb_hidden), device=device, dtype=torch.float, requires_grad=True)\n",
    "torch.nn.init.normal_(w1, mean=0., std=.1)\n",
    "\n",
    "w2 = torch.empty((nb_hidden, nb_of_ouputs), device=device, dtype=torch.float, requires_grad=True)\n",
    "torch.nn.init.normal_(w2, mean=0., std=.1)\n"
   ]
  },
  {
   "cell_type": "markdown",
   "metadata": {},
   "source": [
    "# Classe pour la rétropropagation de l'erreur"
   ]
  },
  {
   "cell_type": "code",
   "execution_count": null,
   "metadata": {
    "id": "rrZ3qeWfnBwj"
   },
   "outputs": [],
   "source": [
    "\n",
    "\n",
    "\n",
    "\n",
    "\"\"\"\n",
    "Cette class permet de calculer la sortie d'une fonction lors de la propagation avant et de personaliser la derivée lors de la retropropagation de l'erreur.\n",
    "Voir cet exemple pour plus de détails : https://pytorch.org/tutorials/beginner/examples_autograd/two_layer_net_custom_function.html\n",
    "\"\"\"\n",
    "class SpikeFunction(torch.autograd.Function):\n",
    "    \"\"\"\n",
    "    Dans la passe avant, nous recevons un tenseur contenant l'entrée (potential-threshold).\n",
    "    Nous appliquons la fonction Heaviside et renvoyons un tenseur contenant la sortie.\n",
    "    \"\"\"\n",
    "    @staticmethod\n",
    "    def forward(ctx, input):\n",
    "        ctx.save_for_backward(input)\n",
    "        out = torch.zeros_like(input)\n",
    "        out[input > 0] = 1.0 # On génère une décharge quand (potential-threshold) > 0\n",
    "        return out\n",
    "\n",
    "    \"\"\"\n",
    "    Dans la passe arrière, nous recevons un tenseur contenant le gradient de l'erreur par rapport à la sortie.\n",
    "    Nous calculons le gradient de l'erreur par rapport à l'entrée en utilisant la dérivée de la fonction ReLu.\n",
    "    \"\"\"\n",
    "    @staticmethod\n",
    "    def backward(ctx, grad_output):\n",
    "        input, = ctx.saved_tensors\n",
    "        grad_relu = torch.ones_like(input) # La dérivée de la fonction ReLU\n",
    "        grad_relu[input < 0] = 0          # La dérivée de la fonction ReLU\n",
    "        return grad_output.clone()*grad_relu"
   ]
  },
  {
   "cell_type": "code",
   "execution_count": 22,
   "metadata": {},
   "outputs": [],
   "source": [
    "class SpikeFunction_Leaky_RELU(torch.autograd.Function):\n",
    "    \"\"\"\n",
    "    Variante utilisant Leaky ReLU pour la propagation avant et arrière.\n",
    "    \"\"\"\n",
    "    @staticmethod\n",
    "    def forward(ctx, input, alpha=0.01):\n",
    "        \"\"\"\n",
    "        Passe avant : spike pour input > 0, sinon applique Leaky ReLU.\n",
    "        \"\"\"\n",
    "        ctx.save_for_backward(input)\n",
    "        ctx.alpha = alpha\n",
    "        out = torch.zeros_like(input)\n",
    "        out[input > 0] = 1.0  # Spike pour les valeurs positives\n",
    "        out[input <= 0] = alpha * input[input <= 0]  # Leaky ReLU pour les valeurs négatives\n",
    "        return out\n",
    "\n",
    "    @staticmethod\n",
    "    def backward(ctx, grad_output):\n",
    "        \"\"\"\n",
    "        Passe arrière : applique la dérivée de Leaky ReLU.\n",
    "        \"\"\"\n",
    "        input, = ctx.saved_tensors\n",
    "        alpha = ctx.alpha\n",
    "        grad_leaky_relu = torch.ones_like(input)\n",
    "        grad_leaky_relu[input < 0] = alpha  # La pente alpha pour les valeurs négatives\n",
    "        return grad_output.clone() * grad_leaky_relu, None\n",
    "\n",
    "\n",
    "class SpikeFunction_Abs_RELU(torch.autograd.Function):\n",
    "    \"\"\"\n",
    "    Variante utilisant Abs ReLU pour la propagation avant et arrière.\n",
    "    \"\"\"\n",
    "    @staticmethod\n",
    "    def forward(ctx, input):\n",
    "        \"\"\"\n",
    "        Passe avant : spike pour input > 0, sinon applique la valeur absolue.\n",
    "        \"\"\"\n",
    "        ctx.save_for_backward(input)\n",
    "        out = torch.zeros_like(input)\n",
    "        out[input > 0] = 1.0  # Spike pour les valeurs positives\n",
    "        out[input <= 0] = torch.abs(input[input <= 0])  # Abs pour les valeurs négatives\n",
    "        return out\n",
    "\n",
    "    @staticmethod\n",
    "    def backward(ctx, grad_output):\n",
    "        \"\"\"\n",
    "        Passe arrière : dérivée constante 1 pour Abs ReLU.\n",
    "        \"\"\"\n",
    "        input, = ctx.saved_tensors\n",
    "        grad_abs_relu = torch.ones_like(input)  # La dérivée est constante 1\n",
    "        return grad_output.clone() * grad_abs_relu\n"
   ]
  },
  {
   "cell_type": "code",
   "execution_count": 9,
   "metadata": {
    "id": "xAXZCMNsnIri"
   },
   "outputs": [],
   "source": [
    "def run_spiking_layer(input_spike_train, layer_weights, tau_v=20*units.ms, tau_i=5*units.ms, v_threshold=1.0):\n",
    "    \"\"\"Here we implement a current-LIF dynamic in PyTorch\"\"\"\n",
    "\n",
    "    # First, we multiply the input spike train by the weights of the current layer to get the current that will be added\n",
    "    # We can calculate this beforehand because the weights are constant in the forward pass (no plasticity)\n",
    "    input_current = torch.einsum(\"abc,bd->adc\", (input_spike_train, layer_weights))  # Equivalent to a matrix multiplication for tensors of dim > 2 using Einstein's Notation\n",
    "\n",
    "    recorded_spikes = []  # Array of the output spikes at each time t\n",
    "    membrane_potential_at_t = torch.zeros((input_spike_train.shape[0], layer_weights.shape[-1]), device=device, dtype=torch.float)\n",
    "    membrane_current_at_t = torch.zeros((input_spike_train.shape[0], layer_weights.shape[-1]), device=device, dtype=torch.float)\n",
    "\n",
    "    for t in range(absolute_duration):  # For every timestep\n",
    "        # Apply the leak\n",
    "        membrane_potential_at_t = float(np.exp(-dt/tau_v))*membrane_potential_at_t # Using tau_v with euler or exact method\n",
    "        membrane_current_at_t = float(np.exp(-dt/tau_i))*membrane_current_at_t # Using tau_i with euler or exact method\n",
    "\n",
    "        # Select the input current at time t\n",
    "        input_at_t = input_current[:, :, t]\n",
    "\n",
    "        # Integrate the input current\n",
    "        membrane_current_at_t += input_at_t\n",
    "\n",
    "        # Integrate the input to the membrane potential\n",
    "        membrane_potential_at_t += membrane_current_at_t\n",
    "\n",
    "        # Apply the non-differentiable function\n",
    "        #recorded_spikes_at_t = SpikeFunction.apply(membrane_potential_at_t - v_threshold)\n",
    "        recorded_spikes_at_t = SpikeFunction.apply(membrane_potential_at_t - v_threshold)\n",
    "        #, activation_type='relu'\n",
    "        #activation_type='leaky_relu', alpha=0.01\n",
    "        #activation_type='abs_relu'\n",
    "\n",
    "        \n",
    "        recorded_spikes.append(recorded_spikes_at_t)\n",
    "\n",
    "        # Reset the spiked neurons\n",
    "        membrane_potential_at_t[membrane_potential_at_t > v_threshold] = 0\n",
    "\n",
    "    recorded_spikes = torch.stack(recorded_spikes, dim=2) # Stack over time axis (Array -> Tensor)\n",
    "    return recorded_spikes\n"
   ]
  },
  {
   "cell_type": "markdown",
   "metadata": {
    "id": "xNEAhvjlnVqF"
   },
   "source": [
    "# Entrainement"
   ]
  },
  {
   "cell_type": "code",
   "execution_count": null,
   "metadata": {
    "id": "dPyehEEZzc4x"
   },
   "outputs": [
    {
     "name": "stdout",
     "output_type": "stream",
     "text": [
      "\n",
      "Epoch 1 -- loss : 329.8574\n",
      "Weight evolution - w1: First = -0.11258398741483688, Second = -0.08833757787942886, Last = -0.02453634701669216\n",
      "Weight evolution - w2: First = 0.3328050673007965, Second = 0.6578252911567688, Last = -0.36469849944114685\n",
      "\n",
      "Epoch 2 -- loss : 292.1398\n",
      "Weight evolution - w1: First = -0.11258398741483688, Second = -0.08833757787942886, Last = -0.02453634701669216\n",
      "Weight evolution - w2: First = 0.5268695950508118, Second = 1.106713891029358, Last = -0.32680296897888184\n",
      "\n",
      "Epoch 3 -- loss : 286.1379\n",
      "Weight evolution - w1: First = -0.11258398741483688, Second = -0.08833757787942886, Last = -0.02453634701669216\n",
      "Weight evolution - w2: First = 0.7428810000419617, Second = 1.4544264078140259, Last = -0.053780850023031235\n",
      "\n",
      "Epoch 4 -- loss : 284.1332\n",
      "Weight evolution - w1: First = -0.11258398741483688, Second = -0.08833757787942886, Last = -0.02453634701669216\n",
      "Weight evolution - w2: First = 0.9212635159492493, Second = 1.725002646446228, Last = 0.4456058144569397\n",
      "\n",
      "Epoch 5 -- loss : 282.5805\n",
      "Weight evolution - w1: First = -0.11258398741483688, Second = -0.08833757787942886, Last = -0.02453634701669216\n",
      "Weight evolution - w2: First = 1.0635664463043213, Second = 1.9738435745239258, Last = 1.0515027046203613\n",
      "\n",
      "Epoch 6 -- loss : 281.5027\n",
      "Weight evolution - w1: First = -0.11258398741483688, Second = -0.08833757787942886, Last = -0.02453634701669216\n",
      "Weight evolution - w2: First = 1.1782759428024292, Second = 2.19453763961792, Last = 1.6422052383422852\n",
      "\n",
      "Epoch 7 -- loss : 280.5748\n",
      "Weight evolution - w1: First = -0.11258398741483688, Second = -0.08833757787942886, Last = -0.02453634701669216\n",
      "Weight evolution - w2: First = 1.269734501838684, Second = 2.376833438873291, Last = 2.1541688442230225\n",
      "\n",
      "Epoch 8 -- loss : 279.7964\n",
      "Weight evolution - w1: First = -0.11258398741483688, Second = -0.08833757787942886, Last = -0.02453634701669216\n",
      "Weight evolution - w2: First = 1.34452486038208, Second = 2.508909225463867, Last = 2.580355167388916\n",
      "\n",
      "Epoch 9 -- loss : 279.0960\n",
      "Weight evolution - w1: First = -0.11258398741483688, Second = -0.08833757787942886, Last = -0.02453634701669216\n",
      "Weight evolution - w2: First = 1.4102321863174438, Second = 2.59169864654541, Last = 2.9492950439453125\n",
      "\n",
      "Epoch 10 -- loss : 278.5660\n",
      "Weight evolution - w1: First = -0.11258398741483688, Second = -0.08833757787942886, Last = -0.02453634701669216\n",
      "Weight evolution - w2: First = 1.460290789604187, Second = 2.6302671432495117, Last = 3.261096477508545\n",
      "\n",
      "Epoch 11 -- loss : 277.7857\n",
      "Weight evolution - w1: First = -0.11258398741483688, Second = -0.08833757787942886, Last = -0.02453634701669216\n",
      "Weight evolution - w2: First = 1.5077495574951172, Second = 2.648318290710449, Last = 3.5318026542663574\n",
      "\n",
      "Epoch 12 -- loss : 277.2965\n",
      "Weight evolution - w1: First = -0.11258398741483688, Second = -0.08833757787942886, Last = -0.02453634701669216\n",
      "Weight evolution - w2: First = 1.5526090860366821, Second = 2.6582326889038086, Last = 3.769237518310547\n",
      "\n",
      "Epoch 13 -- loss : 276.7152\n",
      "Weight evolution - w1: First = -0.11258398741483688, Second = -0.08833757787942886, Last = -0.02453634701669216\n",
      "Weight evolution - w2: First = 1.595729947090149, Second = 2.6586856842041016, Last = 3.9615659713745117\n",
      "\n",
      "Epoch 14 -- loss : 276.2672\n",
      "Weight evolution - w1: First = -0.11258398741483688, Second = -0.08833757787942886, Last = -0.02453634701669216\n",
      "Weight evolution - w2: First = 1.6342335939407349, Second = 2.6453182697296143, Last = 4.1159563064575195\n",
      "\n",
      "Epoch 15 -- loss : 275.7238\n",
      "Weight evolution - w1: First = -0.11258398741483688, Second = -0.08833757787942886, Last = -0.02453634701669216\n",
      "Weight evolution - w2: First = 1.6778109073638916, Second = 2.63344407081604, Last = 4.245261192321777\n",
      "\n",
      "Epoch 16 -- loss : 275.2275\n",
      "Weight evolution - w1: First = -0.11258398741483688, Second = -0.08833757787942886, Last = -0.02453634701669216\n",
      "Weight evolution - w2: First = 1.7199947834014893, Second = 2.6169533729553223, Last = 4.347570419311523\n",
      "\n",
      "Epoch 17 -- loss : 274.8864\n",
      "Weight evolution - w1: First = -0.11258398741483688, Second = -0.08833757787942886, Last = -0.02453634701669216\n",
      "Weight evolution - w2: First = 1.761824607849121, Second = 2.5982613563537598, Last = 4.428068161010742\n",
      "\n",
      "Epoch 18 -- loss : 274.6137\n",
      "Weight evolution - w1: First = -0.11258398741483688, Second = -0.08833757787942886, Last = -0.02453634701669216\n",
      "Weight evolution - w2: First = 1.7990925312042236, Second = 2.579955577850342, Last = 4.491466045379639\n",
      "\n",
      "Epoch 19 -- loss : 274.2834\n",
      "Weight evolution - w1: First = -0.11258398741483688, Second = -0.08833757787942886, Last = -0.02453634701669216\n",
      "Weight evolution - w2: First = 1.8313385248184204, Second = 2.560070753097534, Last = 4.540905475616455\n",
      "\n",
      "Epoch 20 -- loss : 274.0559\n",
      "Weight evolution - w1: First = -0.11258398741483688, Second = -0.08833757787942886, Last = -0.02453634701669216\n",
      "Weight evolution - w2: First = 1.8595272302627563, Second = 2.5401382446289062, Last = 4.577398300170898\n"
     ]
    }
   ],
   "source": [
    "# Set-up training\n",
    "nb_of_epochs = 20\n",
    "batch_size = 256  # The backpropagation is done after every batch, but a batch here is also used for memory requirements\n",
    "number_of_batches = len(train_indices) // batch_size\n",
    "\n",
    "params = [w1, w2]  # Trainable parameters\n",
    "optimizer = torch.optim.Adam(params, lr=0.01, amsgrad=True)\n",
    "loss_fn = torch.nn.MSELoss(reduction='mean')\n",
    "\n",
    "# Initialisation des listes pour stocker les poids\n",
    "w1_history = []\n",
    "w2_history = []\n",
    "\n",
    "for e in range(nb_of_epochs):\n",
    "    epoch_loss = 0\n",
    "    for batch in np.array_split(train_indices, number_of_batches):\n",
    "        # Select batch and convert to tensors\n",
    "        batch_spike_train = torch.FloatTensor(spike_train[batch].todense()).to(device)\n",
    "        batch_labels = torch.LongTensor(y[batch, np.newaxis]).to(device)\n",
    "\n",
    "        # Here we create a target spike count (10 spikes for wrong label, 100 spikes for true label) in a one-hot fashion\n",
    "        # This approach is seen in Shrestha & Orchard (2018) https://arxiv.org/pdf/1810.08646.pdf\n",
    "        # Code available at https://github.com/bamsumit/slayerPytorch\n",
    "        min_spike_count = 10 * torch.ones((batch.shape[0], 10), device=device, dtype=torch.float)\n",
    "        target_output = min_spike_count.scatter_(1, batch_labels, 100.0)\n",
    "\n",
    "        # Forward propagation\n",
    "        layer_1_spikes = run_spiking_layer(batch_spike_train, w1)\n",
    "        layer_2_spikes = run_spiking_layer(layer_1_spikes, w2)\n",
    "        network_output = torch.sum(layer_2_spikes, 2)  # Count the spikes over time axis\n",
    "        loss = loss_fn(network_output, target_output)\n",
    "\n",
    "        # Backward propagation\n",
    "        optimizer.zero_grad()\n",
    "        loss.backward()\n",
    "        optimizer.step()\n",
    "        epoch_loss += loss.item()\n",
    "\n",
    "    print(\"\\nEpoch %i -- loss : %.4f\" %(e+1, epoch_loss / number_of_batches))\n",
    "    # Affichage des 1er, 2e et dernier poids de w1 et w2\n",
    "    #print(f\"Weight evolution - w1: First = {w1.detach().cpu().numpy()[0][0]}, Second = {w1.detach().cpu().numpy()[1][0]}, Last = {w1.detach().cpu().numpy()[-1][0]}\")\n",
    "    print(f\"Weight evolution - w2: First = {w2.detach().cpu().numpy()[0][0]}, Second = {w2.detach().cpu().numpy()[1][0]}, Last = {w2.detach().cpu().numpy()[-1][0]}\")\n",
    "    #w1_history.append(w1.detach().cpu().numpy())  \n",
    "    w2_history.append(w2.detach().cpu().numpy().copy())\n"
   ]
  },
  {
   "cell_type": "markdown",
   "metadata": {},
   "source": [
    "<h1 style=\"color:red;\">Validation</h1>\n"
   ]
  },
  {
   "cell_type": "code",
   "execution_count": 16,
   "metadata": {},
   "outputs": [
    {
     "name": "stdout",
     "output_type": "stream",
     "text": [
      "Model accuracy on test set: 0.869\n"
     ]
    }
   ],
   "source": [
    "# Test the accuracy of the model\n",
    "correct_label_count = 0\n",
    "\n",
    "# We only need to batchify the test set for memory requirements\n",
    "for batch in np.array_split(validation_indices,  len(validation_indices) // batch_size):\n",
    "    validation_spike_train = torch.FloatTensor(spike_train[batch].todense()).to(device)\n",
    "\n",
    "    # Same forward propagation as before\n",
    "    layer_1_spikes = run_spiking_layer(validation_spike_train, w1)\n",
    "    layer_2_spikes = run_spiking_layer(layer_1_spikes, w2)\n",
    "    network_output = torch.sum(layer_2_spikes, 2)  # Count the spikes over time axis\n",
    "\n",
    "    # Do the prediction by selecting the output neuron with the most number of spikes\n",
    "    _, am = torch.max(network_output, 1)\n",
    "    correct_label_count += np.sum(am.detach().cpu().numpy() == y[batch])\n",
    "\n",
    "print(\"Model accuracy on test set: %.3f\" % (correct_label_count / len(test_indices)))"
   ]
  },
  {
   "cell_type": "markdown",
   "metadata": {
    "id": "0j4qQrgVnihY"
   },
   "source": [
    "# Test"
   ]
  },
  {
   "cell_type": "code",
   "execution_count": 14,
   "metadata": {
    "id": "NgQyFnPetmxQ"
   },
   "outputs": [
    {
     "name": "stdout",
     "output_type": "stream",
     "text": [
      "Model accuracy on test set: 0.866\n"
     ]
    }
   ],
   "source": [
    "# Test the accuracy of the model\n",
    "correct_label_count = 0\n",
    "\n",
    "# We only need to batchify the test set for memory requirements\n",
    "for batch in np.array_split(test_indices,  len(test_indices) // batch_size):\n",
    "    test_spike_train = torch.FloatTensor(spike_train[batch].todense()).to(device)\n",
    "\n",
    "    # Same forward propagation as before\n",
    "    layer_1_spikes = run_spiking_layer(test_spike_train, w1)\n",
    "    layer_2_spikes = run_spiking_layer(layer_1_spikes, w2)\n",
    "    network_output = torch.sum(layer_2_spikes, 2)  # Count the spikes over time axis\n",
    "\n",
    "    # Do the prediction by selecting the output neuron with the most number of spikes\n",
    "    _, am = torch.max(network_output, 1)\n",
    "    correct_label_count += np.sum(am.detach().cpu().numpy() == y[batch])\n",
    "\n",
    "print(\"Model accuracy on test set: %.3f\" % (correct_label_count / len(test_indices)))"
   ]
  },
  {
   "cell_type": "markdown",
   "metadata": {},
   "source": [
    "# Graphiques"
   ]
  },
  {
   "cell_type": "markdown",
   "metadata": {},
   "source": [
    "### Évolution des poids"
   ]
  },
  {
   "cell_type": "code",
   "execution_count": 19,
   "metadata": {},
   "outputs": [
    {
     "name": "stdout",
     "output_type": "stream",
     "text": [
      "[1.8595272 1.8595272 1.8595272 1.8595272 1.8595272 1.8595272 1.8595272\n",
      " 1.8595272 1.8595272 1.8595272 1.8595272 1.8595272 1.8595272 1.8595272\n",
      " 1.8595272 1.8595272 1.8595272 1.8595272 1.8595272 1.8595272]\n"
     ]
    },
    {
     "data": {
      "image/png": "[encoded data removed]",
      "text/plain": [
       "<Figure size 1000x500 with 1 Axes>"
      ]
     },
     "metadata": {},
     "output_type": "display_data"
    }
   ],
   "source": [
    "# Convertir w2_history en tableau numpy pour faciliter les manipulations\n",
    "w2_history = np.array(w2_history)\n",
    "\n",
    "# Extraire les indices des poids à tracer (premier, deuxième, dernier)\n",
    "first_weight = w2_history[:, 0, 0]  # Premier poids\n",
    "second_weight = w2_history[:, 1, 0]  # Deuxième poids\n",
    "last_weight = w2_history[:, -1, 0]  # Dernier poids\n",
    "print(first_weight)\n",
    "# Tracer l'évolution des trois poids\n",
    "plt.figure(figsize=(10, 5))\n",
    "plt.plot(first_weight, label=\"Premier poids (w2[0,0])\", color='blue')\n",
    "plt.plot(second_weight, label=\"Deuxième poids (w2[1,0])\", color='green')\n",
    "plt.plot(last_weight, label=\"Dernier poids (w2[-1,0])\", color='red')\n",
    "plt.title(\"Évolution des poids sélectionnés de w2 au fil du temps\")\n",
    "plt.xlabel(\"Époque\")\n",
    "plt.ylabel(\"Valeur du poids\")\n",
    "plt.legend(loc='best')\n",
    "plt.grid(True)\n",
    "plt.show()\n"
   ]
  }
 ],
 "metadata": {
  "accelerator": "GPU",
  "colab": {
   "provenance": [],
   "toc_visible": true
  },
  "kernelspec": {
   "display_name": "Python 3 (ipykernel)",
   "language": "python",
   "name": "python3"
  },
  "language_info": {
   "codemirror_mode": {
    "name": "ipython",
    "version": 3
   },
   "file_extension": ".py",
   "mimetype": "text/x-python",
   "name": "python",
   "nbconvert_exporter": "python",
   "pygments_lexer": "ipython3",
   "version": "3.9.15"
  }
 },
 "nbformat": 4,
 "nbformat_minor": 1
}
