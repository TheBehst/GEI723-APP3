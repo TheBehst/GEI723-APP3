{
  "cells": [
    {
      "cell_type": "markdown",
      "metadata": {
        "id": "XWI1p59MgcLE"
      },
      "source": [
        "Introduction to PyTorch on Google Colaboratory  \n",
        "===============================================\n",
        "\n",
        "Copyright (c) 2019-2024, NECOTIS  (All rights reserved.)\n",
        "\n",
        "Authors: Ismael Balafrej, Ahmad El Ferdaoussi, Alexis MélotL, Arnaud Yarga\n"
      ]
    },
    {
      "cell_type": "markdown",
      "metadata": {
        "id": "JdRSYrrD-M2_"
      },
      "source": [
        "Google Colab\n",
        "============\n",
        "\n",
        "As defined by Google: Colaboratory is a free Jupyter notebook environment that requires no setup and runs entirely in the cloud. With Colaboratory you can write and execute code, save and share your analyses, and access powerful computing resources, all for free from your browser.\n",
        "\n",
        "Your jupyter notebooks can be uploaded directly using the interface. It runs on the cloud and it's entirely free (or at least for the moment, so let's get the most out of it!). All you need is a Google account (typically Gmail) since your notebooks are saved directly in your Google Drive."
      ]
    },
    {
      "cell_type": "code",
      "execution_count": null,
      "metadata": {
        "id": "LwheSENo_gSZ"
      },
      "outputs": [],
      "source": [
        "# Most python packages for ML and data processing in general are pre-installed\n",
        "import time\n",
        "import pandas as pd\n",
        "import numpy as np\n",
        "import matplotlib.pyplot as plt\n",
        "import sklearn\n",
        "import torch"
      ]
    },
    {
      "cell_type": "code",
      "execution_count": null,
      "metadata": {
        "colab": {
          "base_uri": "https://localhost:8080/"
        },
        "id": "3H8wW4T2AroM",
        "outputId": "ac4aa132-c879-47dd-f008-1c4aef5c2779"
      },
      "outputs": [
        {
          "output_type": "stream",
          "name": "stdout",
          "text": [
            "               total        used        free      shared  buff/cache   available\n",
            "Mem:            12Gi       1.3Gi       5.9Gi       1.0Mi       5.5Gi        11Gi\n",
            "Swap:             0B          0B          0B\n",
            "Filesystem      Size  Used Avail Use% Mounted on\n",
            "overlay         113G   33G   81G  29% /\n"
          ]
        }
      ],
      "source": [
        "# In the upper right corner, you can see the physical limits in disk space and ram, normally it's big enough for most application\n",
        "!free -h\n",
        "!df -h /"
      ]
    },
    {
      "cell_type": "code",
      "execution_count": null,
      "metadata": {
        "colab": {
          "base_uri": "https://localhost:8080/"
        },
        "id": "75R5lJqAEJ88",
        "outputId": "596cd880-c2bb-42f0-bc08-dfdc4999aa22"
      },
      "outputs": [
        {
          "output_type": "stream",
          "name": "stdout",
          "text": [
            "Mon Nov 11 22:10:41 2024       \n",
            "+---------------------------------------------------------------------------------------+\n",
            "| NVIDIA-SMI 535.104.05             Driver Version: 535.104.05   CUDA Version: 12.2     |\n",
            "|-----------------------------------------+----------------------+----------------------+\n",
            "| GPU  Name                 Persistence-M | Bus-Id        Disp.A | Volatile Uncorr. ECC |\n",
            "| Fan  Temp   Perf          Pwr:Usage/Cap |         Memory-Usage | GPU-Util  Compute M. |\n",
            "|                                         |                      |               MIG M. |\n",
            "|=========================================+======================+======================|\n",
            "|   0  Tesla T4                       Off | 00000000:00:04.0 Off |                    0 |\n",
            "| N/A   31C    P8               9W /  70W |      0MiB / 15360MiB |      0%      Default |\n",
            "|                                         |                      |                  N/A |\n",
            "+-----------------------------------------+----------------------+----------------------+\n",
            "                                                                                         \n",
            "+---------------------------------------------------------------------------------------+\n",
            "| Processes:                                                                            |\n",
            "|  GPU   GI   CI        PID   Type   Process name                            GPU Memory |\n",
            "|        ID   ID                                                             Usage      |\n",
            "|=======================================================================================|\n",
            "|  No running processes found                                                           |\n",
            "+---------------------------------------------------------------------------------------+\n"
          ]
        }
      ],
      "source": [
        "# Most importantly, you have access to a fairly new GPU for high parallelisation processing\n",
        "!nvidia-smi"
      ]
    },
    {
      "cell_type": "markdown",
      "metadata": {
        "id": "z-eQTD2MGCeP"
      },
      "source": [
        "Keep it mind that Colab is free to use for research purposes. You have up to 12h of continuous usage so this should be more than good enough for this problem.\n",
        "You **cannot** use it for cryptocurrency mining, prime factorization, or other misuse."
      ]
    },
    {
      "cell_type": "markdown",
      "metadata": {
        "id": "0tL-qRuuGlxA"
      },
      "source": [
        "PyTorch\n",
        "=======\n",
        "As defined by Wikipedia: PyTorch is an open source machine learning library based on the Torch library, used for applications such as computer vision and natural language processing. It is primarily developed by Facebook's AI Research Group. It is free and open-source software released under the Modified BSD license.\n",
        "\n",
        "Although the official name is PyTorch, the package is referred to as torch. You can install it on your machine with a `pip install torch` or `conda install -c pytorch pytorch`.\n",
        "\n",
        "You can find PyTorch tutorials at https://pytorch.org/tutorials/ and the documentation at https://pytorch.org/docs/stable/index.html"
      ]
    },
    {
      "cell_type": "code",
      "execution_count": null,
      "metadata": {
        "id": "_Fm6a2pRHcnI"
      },
      "outputs": [],
      "source": [
        "torch.manual_seed(0) # As always, we can set the seed for reproductibility\n",
        "np.random.seed(0)\n",
        "\n",
        "# As it's core, pytorch is very similar to numpy. The major distinction is that you can select a device and transfer between devices.\n",
        "\n",
        "# Here we select the device based on what is available. If we have a gpu access, the device will be the GPU, otherwise, we'll run the code on CPU\n",
        "if torch.cuda.is_available():\n",
        "    device = torch.device(\"cuda\")\n",
        "else:\n",
        "    device = torch.device(\"cpu\")\n",
        "\n",
        "# Pytorch is fairly agnostic on whether you use a GPU or a CPU when you write python code. The only thing you have to keep in mind\n",
        "# is to keep your operation on the same device"
      ]
    },
    {
      "cell_type": "code",
      "execution_count": null,
      "metadata": {
        "id": "lXzhXtrZIVC8"
      },
      "outputs": [],
      "source": [
        "# Another small distinction is that in numpy, the main data structure is called an array while in pytorch it's called a tensor\n",
        "X_np = np.ones((100, 100))\n",
        "X_torch = torch.ones((100, 100), device=device)"
      ]
    },
    {
      "cell_type": "code",
      "execution_count": null,
      "metadata": {
        "colab": {
          "base_uri": "https://localhost:8080/"
        },
        "id": "dupz26bSIuqS",
        "outputId": "16d0e6bb-d441-4f62-9288-e7c645cccbf7"
      },
      "outputs": [
        {
          "output_type": "stream",
          "name": "stdout",
          "text": [
            "(100, 100)\n",
            "torch.Size([100, 100])\n",
            "2\n",
            "2\n"
          ]
        }
      ],
      "source": [
        "# While the API is mostly the same, the underlying types are not always identical\n",
        "# But for most cases, it doesn't matter\n",
        "print(X_np.shape)\n",
        "print(X_torch.shape)\n",
        "print(X_np.ndim)\n",
        "print(X_torch.ndim)"
      ]
    },
    {
      "cell_type": "code",
      "execution_count": null,
      "metadata": {
        "colab": {
          "base_uri": "https://localhost:8080/"
        },
        "id": "--kpYIMfI9qJ",
        "outputId": "295b5ce3-0ab2-4955-c7ad-8cef32f71fb3"
      },
      "outputs": [
        {
          "output_type": "execute_result",
          "data": {
            "text/plain": [
              "True"
            ]
          },
          "metadata": {},
          "execution_count": 8
        }
      ],
      "source": [
        "# You can also convert seamless between numpy arrays and pytorch tensors if need be\n",
        "# Although, since numpy is CPU only, you have to transfer the memory to the RAM first\n",
        "X_torch_to_numpy = X_torch.cpu().numpy()\n",
        "np.all(X_np == X_torch_to_numpy)"
      ]
    },
    {
      "cell_type": "code",
      "execution_count": null,
      "metadata": {
        "colab": {
          "base_uri": "https://localhost:8080/"
        },
        "id": "tfOU840jJrTR",
        "outputId": "517283b4-8911-4391-b001-0d10f8a82ca8"
      },
      "outputs": [
        {
          "output_type": "stream",
          "name": "stdout",
          "text": [
            "(100, 100)\n"
          ]
        }
      ],
      "source": [
        "# In some cases, when doing gradient based methods you even have to \"detach\"\n",
        "# This is because pytorch, like tensorflow, can automatically compute the gradient for you\n",
        "# You can specify this at variable initialization\n",
        "X_torch = torch.ones((100, 100), device=device, requires_grad=True)\n",
        "print(X_torch.detach().cpu().numpy().shape) # Here we need to detach the tensor from the automatic gradient calculations in order to convert it"
      ]
    },
    {
      "cell_type": "code",
      "execution_count": null,
      "metadata": {
        "id": "MGKgVRTWLUOC"
      },
      "outputs": [],
      "source": [
        "# That's the reverse operation, so from numpy to pytorch\n",
        "# By default, the tensor will be converted to the CPU device\n",
        "# But since we are using a GPU here, the \"to\" method can\n",
        "# transfer the memory to the GPU\n",
        "X_np = np.random.random((1000, 1000))\n",
        "X_torch = torch.from_numpy(X_np).to(device)"
      ]
    },
    {
      "cell_type": "code",
      "execution_count": null,
      "metadata": {
        "id": "NXZgUmH6MAgz"
      },
      "outputs": [],
      "source": [
        "# More examples of the similarities between numpy and pytorch\n",
        "\n",
        "X_torch[0:100] *= 5\n",
        "X_np[0:100] *= 5\n",
        "\n",
        "X_torch = X_torch.T\n",
        "X_np = X_np.T\n",
        "\n",
        "amax_torch = torch.argmax(X_torch, axis=0)\n",
        "amax_np = np.argmax(X_np, axis=0)\n",
        "assert(np.all(amax_torch.cpu().numpy() == amax_np))"
      ]
    },
    {
      "cell_type": "markdown",
      "metadata": {
        "id": "pjPMeKZ4VZdP"
      },
      "source": [
        "As mentioned before, pytorch can be GPU accelerated. To see why this is useful, we can do a simple operation that is highly parallelizable like a matrix multiplication two hunded times (And we normalize to not overflow):"
      ]
    },
    {
      "cell_type": "code",
      "execution_count": null,
      "metadata": {
        "colab": {
          "base_uri": "https://localhost:8080/"
        },
        "id": "tDiMPixPQ5xa",
        "outputId": "75d42aed-3d20-452d-8cba-3dedca2a3732"
      },
      "outputs": [
        {
          "output_type": "stream",
          "name": "stdout",
          "text": [
            "Execution took 0.189 seconds\n"
          ]
        }
      ],
      "source": [
        "start = time.time()\n",
        "\n",
        "for _ in range(200):\n",
        "    X_torch = torch.matmul(X_torch, X_torch)\n",
        "    X_torch /= torch.max(X_torch)\n",
        "\n",
        "print(\"Execution took %.3f seconds\" % (time.time() - start))"
      ]
    },
    {
      "cell_type": "code",
      "execution_count": null,
      "metadata": {
        "colab": {
          "base_uri": "https://localhost:8080/"
        },
        "id": "R0t2IKIVTNE0",
        "outputId": "eb793677-48fb-4fe7-fd78-4b9647f4d5d4"
      },
      "outputs": [
        {
          "output_type": "stream",
          "name": "stdout",
          "text": [
            "Execution took 11.814 seconds\n"
          ]
        }
      ],
      "source": [
        "start = time.time()\n",
        "\n",
        "for _ in range(200):\n",
        "    X_np = np.matmul(X_np, X_np)\n",
        "    X_np /= np.max(X_np)\n",
        "\n",
        "print(\"Execution took %.3f seconds\" % (time.time() - start))"
      ]
    },
    {
      "cell_type": "markdown",
      "metadata": {
        "id": "6WDRwEuqbRoX"
      },
      "source": [
        "Let's now explore a little bit more the autograd features of pytorch, which numpy doesn't have"
      ]
    },
    {
      "cell_type": "code",
      "execution_count": null,
      "metadata": {
        "id": "BEWc7UcTbZs_"
      },
      "outputs": [],
      "source": [
        "# Let's create a toy dataset of two overlaping normal random points\n",
        "N = 500 # number of points per class\n",
        "X_1 = torch.distributions.normal.Normal(1, 1.).sample((N,)).float().to(device)\n",
        "X_2 = torch.distributions.normal.Normal(3, 1).sample((N,)).float().to(device)\n",
        "y_1 = torch.zeros(N, device=device) # Label 1 = 0\n",
        "y_2 = torch.ones(N, device=device) # Label 2 = 1\n",
        "X = torch.cat([X_1, X_2], dim=0) # Concatenate the data\n",
        "y = torch.cat([y_1, y_2], dim=0) # And the labels\n",
        "random_indexes = torch.randperm(2*N) # Randomly permute the array\n",
        "X = X[random_indexes].view(-1, 1) # View here will convert a (N,) shaped array to a (N, 1) shaped matrix\n",
        "y = y[random_indexes].view(-1, 1)\n",
        "\n",
        "# Transform the label into one-hot encoding, 0 => [1, 0] and 1 => [0, 1]\n",
        "oh_y = torch.zeros(y.shape[0], 2, device=device)\n",
        "oh_y = oh_y.scatter(1, y.long(), 1);\n",
        "\n",
        "# Normalize the input\n",
        "X = (X - torch.mean(X)) / torch.std(X)"
      ]
    },
    {
      "cell_type": "code",
      "execution_count": null,
      "metadata": {
        "colab": {
          "base_uri": "https://localhost:8080/",
          "height": 172
        },
        "id": "XGfSF7eyNo6R",
        "outputId": "b2b7d088-6ac1-48ab-8667-8c064448de2b"
      },
      "outputs": [
        {
          "output_type": "display_data",
          "data": {
            "text/plain": [
              "<Figure size 1500x200 with 1 Axes>"
            ],
            "image/png": "[encoded data removed]"
          },
          "metadata": {}
        }
      ],
      "source": [
        "# Here is what is looks like\n",
        "plt.figure(figsize=(15, 2))\n",
        "X_1_np = X_1.cpu().numpy()\n",
        "X_2_np = X_2.cpu().numpy()\n",
        "plt.plot(X_1_np, np.ones_like(X_1_np), 'x', color='blue', alpha=0.5);\n",
        "plt.plot(X_2_np, np.ones_like(X_2_np), '+', color='red', alpha=0.5);"
      ]
    },
    {
      "cell_type": "code",
      "execution_count": null,
      "metadata": {
        "id": "dh0Y-9uSb9WT"
      },
      "outputs": [],
      "source": [
        "# Let's create a weight tensor, as we would typically do in a formal neural network\n",
        "W1 = torch.rand(1, 10, dtype=torch.float32, device=device)\n",
        "W1 = (2.*W1 - 1.) # Uniform weights between -1 and 1\n",
        "W1 = W1.requires_grad_() # Same as if we would have initialized the variable with requires_grad=True as argument\n",
        "\n",
        "W2 = torch.rand(10, 2, dtype=torch.float32, device=device)\n",
        "W2 = (2.*W2 - 1.)\n",
        "W2 = W2.requires_grad_()"
      ]
    },
    {
      "cell_type": "code",
      "execution_count": null,
      "metadata": {
        "id": "PzU9DDaRcp6x"
      },
      "outputs": [],
      "source": [
        "# Feed forward part\n",
        "def sigmoid_activation_function(inp):\n",
        "    # You can add any arbitrary python functions and call them whenever\n",
        "    # Pytorch autograd will still be able to compute the gradient\n",
        "    # Here is an illustration of the sigmoid function\n",
        "    # But normally, you'd use torch.nn.Sigmoid() which is faster\n",
        "    return 1 / (1 + torch.exp(-inp))\n",
        "\n",
        "hidden_output = sigmoid_activation_function(torch.matmul(X, W1))\n",
        "output = sigmoid_activation_function(torch.matmul(hidden_output, W2))"
      ]
    },
    {
      "cell_type": "code",
      "execution_count": null,
      "metadata": {
        "colab": {
          "base_uri": "https://localhost:8080/"
        },
        "id": "mRMLbyGWnyte",
        "outputId": "7149e001-6433-43ae-ab2e-0c3c2539c252"
      },
      "outputs": [
        {
          "output_type": "stream",
          "name": "stdout",
          "text": [
            "Pre training accuracy : 50.00 %\n"
          ]
        }
      ],
      "source": [
        "accuracy = torch.sum(torch.argmax(output, dim=1) == y.view(-1,)).float() / y.shape[0] * 100.\n",
        "print(\"Pre training accuracy : %.2f %%\" % accuracy)"
      ]
    },
    {
      "cell_type": "code",
      "execution_count": null,
      "metadata": {
        "colab": {
          "base_uri": "https://localhost:8080/"
        },
        "id": "Au-yfjDVTTST",
        "outputId": "d39fe26d-329e-4ba0-c0ab-0f74247a750a"
      },
      "outputs": [
        {
          "output_type": "execute_result",
          "data": {
            "text/plain": [
              "(tensor([0.6400, 0.4170], device='cuda:0', grad_fn=<MeanBackward1>),\n",
              " tensor([0.0403, 0.0216], device='cuda:0', grad_fn=<StdBackward0>))"
            ]
          },
          "metadata": {},
          "execution_count": 20
        }
      ],
      "source": [
        "# Near 50% ! That may seem good, but keep in mind that for a two class problem,\n",
        "# this is almost equivalent to a random classification\n",
        "# We can look at the output tensor's statistics to understand why:\n",
        "torch.mean(output, dim=0), torch.std(output, dim=0)"
      ]
    },
    {
      "cell_type": "code",
      "execution_count": null,
      "metadata": {
        "colab": {
          "base_uri": "https://localhost:8080/"
        },
        "id": "sw1YzlTCogWE",
        "outputId": "a907a003-343f-4f66-ce5f-e77929ca3675"
      },
      "outputs": [
        {
          "output_type": "stream",
          "name": "stdout",
          "text": [
            "Loss iteration 1 : 0.2430\n",
            "Loss iteration 101 : 0.1170\n",
            "Loss iteration 201 : 0.1170\n",
            "Loss iteration 301 : 0.1169\n",
            "Loss iteration 401 : 0.1169\n",
            "Loss iteration 501 : 0.1169\n",
            "Loss iteration 601 : 0.1169\n",
            "Loss iteration 701 : 0.1169\n",
            "Loss iteration 801 : 0.1169\n",
            "Loss iteration 901 : 0.1169\n",
            "Loss iteration 1001 : 0.1169\n"
          ]
        }
      ],
      "source": [
        "# Let's create a standard SGD in order to train these weights\n",
        "optimizer = torch.optim.SGD((W1, W2,), lr=5e-1, momentum=0.9)\n",
        "\n",
        "# And we'll iterate over some epochs\n",
        "for i in range(1001):\n",
        "    optimizer.zero_grad() # Reset the gradient in pytorch\n",
        "\n",
        "    # We do forward propagation once again\n",
        "    hidden_output = sigmoid_activation_function(torch.matmul(X, W1))\n",
        "    output = sigmoid_activation_function(torch.matmul(hidden_output, W2))\n",
        "\n",
        "    # We use the mean squared error as a loss function, we could also use torch.nn.MSELoss\n",
        "    loss = torch.mean((oh_y - output) ** 2)\n",
        "\n",
        "    loss.backward() # Compute the local loss for each layers\n",
        "    optimizer.step() # Do a step of SGD\n",
        "    if i % 100 == 0:\n",
        "        print(\"Loss iteration %i : %.4f\" % (i+1, loss.detach().cpu().numpy()))"
      ]
    },
    {
      "cell_type": "code",
      "execution_count": null,
      "metadata": {
        "colab": {
          "base_uri": "https://localhost:8080/"
        },
        "id": "XZLba_wf4daG",
        "outputId": "ae7757da-ab47-428c-ef25-6175c1f21fc5"
      },
      "outputs": [
        {
          "output_type": "stream",
          "name": "stdout",
          "text": [
            "Post training accuracy : 83.60 %\n"
          ]
        }
      ],
      "source": [
        "hidden_output = sigmoid_activation_function(torch.matmul(X, W1))\n",
        "output = sigmoid_activation_function(torch.matmul(hidden_output, W2))\n",
        "accuracy = torch.sum(torch.argmax(output, dim=1) == y.view(-1,)).float() / y.shape[0] * 100.\n",
        "print(\"Post training accuracy : %.2f %%\" % accuracy)"
      ]
    },
    {
      "cell_type": "markdown",
      "metadata": {
        "id": "zNkP--jlpGnQ"
      },
      "source": [
        "You can define your own gradients too, say you have a non differentiable function for example\n",
        "\n",
        "Here is a good example of RELU, taken from [here](https://pytorch.org/tutorials/beginner/examples_autograd/two_layer_net_custom_function.html)"
      ]
    },
    {
      "cell_type": "code",
      "execution_count": null,
      "metadata": {
        "id": "ma362hO_2zyE"
      },
      "outputs": [],
      "source": [
        "class MyReLU(torch.autograd.Function):\n",
        "    \"\"\"\n",
        "    We can implement our own custom autograd Functions by subclassing\n",
        "    torch.autograd.Function and implementing the forward and backward passes\n",
        "    which operate on Tensors.\n",
        "    \"\"\"\n",
        "\n",
        "    @staticmethod\n",
        "    def forward(ctx, input):\n",
        "        \"\"\"\n",
        "        In the forward pass we receive a Tensor containing the input and return\n",
        "        a Tensor containing the output. ctx is a context object that can be used\n",
        "        to stash information for backward computation. You can cache arbitrary\n",
        "        objects for use in the backward pass using the ctx.save_for_backward method.\n",
        "        \"\"\"\n",
        "        ctx.save_for_backward(input)\n",
        "        return input.clamp(min=0)\n",
        "\n",
        "    @staticmethod\n",
        "    def backward(ctx, grad_output):\n",
        "        \"\"\"\n",
        "        In the backward pass we receive a Tensor containing the gradient of the loss\n",
        "        with respect to the output, and we need to compute the gradient of the loss\n",
        "        with respect to the input.\n",
        "        \"\"\"\n",
        "        input, = ctx.saved_tensors\n",
        "        grad_input = grad_output.clone()\n",
        "        grad_input[input < 0] = 0\n",
        "        return grad_input"
      ]
    },
    {
      "cell_type": "markdown",
      "metadata": {
        "id": "nOsu97DppMpf"
      },
      "source": [
        "Let's re-create the weights so they aren't trained"
      ]
    },
    {
      "cell_type": "code",
      "execution_count": null,
      "metadata": {
        "id": "XyMDgDgOawEO"
      },
      "outputs": [],
      "source": [
        "W1 = torch.rand(1, 6, dtype=torch.float32, device=device)\n",
        "W1 = (2.*W1 - 1.)\n",
        "W1 = W1.requires_grad_()\n",
        "\n",
        "W2 = torch.rand(6, 4, dtype=torch.float32, device=device)\n",
        "W2 = (2.*W2 - 1.)\n",
        "W2 = W2.requires_grad_()\n",
        "\n",
        "W3 = torch.rand(4, 2, dtype=torch.float32, device=device)\n",
        "W3 = (2.*W3 - 1.)\n",
        "W3 = W3.requires_grad_()"
      ]
    },
    {
      "cell_type": "markdown",
      "metadata": {
        "id": "SxhXaYz_pPCS"
      },
      "source": [
        "With our custom activation function, let's create our network.\n",
        "Here we use the Mean Square Error (MSE) loss and the Adam optimizer algorithm from PyTorch.\n",
        "\n",
        "Adam optimizer is kind of like the Stochastic Gradient Descent (SGD) algorithm but wiht an adaptive learning rate and more features making it more computationally efficient and give overall better performances than SGD.\n",
        "\n",
        "More infos can be found [here](https://machinelearningmastery.com/adam-optimization-algorithm-for-deep-learning/)."
      ]
    },
    {
      "cell_type": "code",
      "execution_count": null,
      "metadata": {
        "colab": {
          "base_uri": "https://localhost:8080/"
        },
        "id": "UEWyxqz2j7H0",
        "outputId": "d4c19c2f-ec6c-46ef-ebdc-8835fa68da5b"
      },
      "outputs": [
        {
          "output_type": "stream",
          "name": "stdout",
          "text": [
            "Loss iteration 200 : 0.184587\n",
            "Loss iteration 400 : 0.183744\n",
            "Loss iteration 600 : 0.183709\n",
            "Loss iteration 800 : 0.183708\n",
            "Loss iteration 1000 : 0.183708\n",
            "Loss iteration 1200 : 0.183708\n",
            "Loss iteration 1400 : 0.183708\n",
            "Loss iteration 1600 : 0.183708\n",
            "Loss iteration 1800 : 0.183708\n",
            "Post training accuracy with ReLU : 83.60 %\n"
          ]
        }
      ],
      "source": [
        "hidden_activation_fnct = MyReLU.apply\n",
        "loss_fnct = torch.nn.MSELoss()\n",
        "optimizer = torch.optim.Adam((W1, W2, W3), lr = 0.003)\n",
        "\n",
        "for i in range(1,2000):\n",
        "    optimizer.zero_grad() # Reset the gradient in pytorch\n",
        "\n",
        "    # We do forward propagation once again\n",
        "    # With our custom ReLU for the hidden layers\n",
        "    hidden_output_1 = hidden_activation_fnct(torch.matmul(X, W1))\n",
        "    hidden_output_2 = hidden_activation_fnct(torch.matmul(hidden_output_1, W2))\n",
        "    output = sigmoid_activation_function(torch.matmul(hidden_output_2, W3))\n",
        "    loss = loss_fnct(output, oh_y)\n",
        "\n",
        "    loss.backward() # Compute the local loss for each layers\n",
        "    optimizer.step() # Do a step of Adam\n",
        "    if i % 200 == 0:\n",
        "        print(\"Loss iteration %i : %.6f\" % (i, loss.detach().cpu().numpy()))\n",
        "\n",
        "hidden_output_1 = hidden_activation_fnct(torch.matmul(X, W1))\n",
        "hidden_output_2 = hidden_activation_fnct(torch.matmul(hidden_output_1, W2))\n",
        "output = sigmoid_activation_function(torch.matmul(hidden_output_2, W3))\n",
        "accuracy = torch.sum(torch.argmax(output, dim=1) == y.view(-1,)).float() / y.shape[0] * 100.\n",
        "print(\"Post training accuracy with ReLU : %.2f %%\" % accuracy)"
      ]
    }
  ],
  "metadata": {
    "accelerator": "GPU",
    "colab": {
      "provenance": []
    },
    "kernelspec": {
      "display_name": "Python 3 (ipykernel)",
      "language": "python",
      "name": "python3"
    },
    "language_info": {
      "codemirror_mode": {
        "name": "ipython",
        "version": 3
      },
      "file_extension": ".py",
      "mimetype": "text/x-python",
      "name": "python",
      "nbconvert_exporter": "python",
      "pygments_lexer": "ipython3",
      "version": "3.11.5"
    }
  },
  "nbformat": 4,
  "nbformat_minor": 0
}